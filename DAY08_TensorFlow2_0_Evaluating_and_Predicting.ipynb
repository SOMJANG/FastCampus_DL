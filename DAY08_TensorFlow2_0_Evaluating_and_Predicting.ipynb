{
  "nbformat": 4,
  "nbformat_minor": 0,
  "metadata": {
    "colab": {
      "name": "DAY08_TensorFlow2.0 Evaluating and Predicting.ipynb",
      "provenance": [],
      "collapsed_sections": []
    },
    "kernelspec": {
      "name": "python3",
      "display_name": "Python 3"
    },
    "accelerator": "GPU"
  },
  "cells": [
    {
      "cell_type": "markdown",
      "metadata": {
        "id": "AW24RSnGpaJu",
        "colab_type": "text"
      },
      "source": [
        "## Optimization & Training"
      ]
    },
    {
      "cell_type": "markdown",
      "metadata": {
        "id": "vPWKdv8Cpeoq",
        "colab_type": "text"
      },
      "source": [
        "- tf와 layers 패키지 불러오기"
      ]
    },
    {
      "cell_type": "code",
      "metadata": {
        "id": "ENWksVBco_JW",
        "colab_type": "code",
        "colab": {}
      },
      "source": [
        "import tensorflow as tf\n",
        "from tensorflow.keras import layers\n",
        "\n",
        "from tensorflow.keras import datasets"
      ],
      "execution_count": null,
      "outputs": []
    },
    {
      "cell_type": "code",
      "metadata": {
        "id": "OqilAtShG8IQ",
        "colab_type": "code",
        "colab": {
          "base_uri": "https://localhost:8080/",
          "height": 71
        },
        "outputId": "dd52de93-08ff-4a6b-942a-1c18253d776b"
      },
      "source": [
        "(train_x, train_y), (test_x, test_y) = datasets.mnist.load_data()"
      ],
      "execution_count": null,
      "outputs": [
        {
          "output_type": "stream",
          "text": [
            "Downloading data from https://storage.googleapis.com/tensorflow/tf-keras-datasets/mnist.npz\n",
            "11493376/11490434 [==============================] - 0s 0us/step\n"
          ],
          "name": "stdout"
        }
      ]
    },
    {
      "cell_type": "markdown",
      "metadata": {
        "id": "TBPgGc5priLV",
        "colab_type": "text"
      },
      "source": [
        "- Basic CNN"
      ]
    },
    {
      "cell_type": "code",
      "metadata": {
        "id": "ibmTOaMwpmWT",
        "colab_type": "code",
        "colab": {}
      },
      "source": [
        "inputs = layers.Input((28, 28, 1))\n",
        "net = layers.Conv2D(32, (3, 3), padding='SAME')(inputs)\n",
        "net = layers.Activation('relu')(net)\n",
        "net = layers.Conv2D(32, (3, 3), padding='SAME')(net)\n",
        "net = layers.Activation('relu')(net)\n",
        "net = layers.MaxPooling2D(pool_size=(2, 2))(net)\n",
        "net = layers.Dropout(0.25)(net)\n",
        "\n",
        "net = layers.Conv2D(64, (3, 3), padding='SAME')(net)\n",
        "net = layers.Activation('relu')(net)\n",
        "net = layers.Conv2D(64, (3, 3), padding='SAME')(net)\n",
        "net = layers.Activation('relu')(net)\n",
        "net = layers.MaxPooling2D(pool_size=(2, 2))(net)\n",
        "net = layers.Dropout(0.25)(net)\n",
        "\n",
        "net = layers.Flatten()(net)\n",
        "net = layers.Dense(512)(net)\n",
        "net = layers.Activation('relu')(net)\n",
        "net = layers.Dropout(0.5)(net)\n",
        "net = layers.Dense(10)(net)  # num_classes\n",
        "net = layers.Activation('softmax')(net)\n",
        "\n",
        "model = tf.keras.Model(inputs=inputs, outputs=net, name='Basic_CNN')"
      ],
      "execution_count": null,
      "outputs": []
    },
    {
      "cell_type": "markdown",
      "metadata": {
        "id": "W2zqSV_CqYV2",
        "colab_type": "text"
      },
      "source": [
        "### Optimization\n",
        "- Loss Function\n",
        "- Optimization\n",
        "- Metrics"
      ]
    },
    {
      "cell_type": "markdown",
      "metadata": {
        "id": "ksrpBNfPqc83",
        "colab_type": "text"
      },
      "source": [
        "### Loss Function\n",
        "\n",
        "#### 이진분류 : Binary   다중분류 : Categorical"
      ]
    },
    {
      "cell_type": "code",
      "metadata": {
        "id": "Ranh-TRWqNvw",
        "colab_type": "code",
        "colab": {}
      },
      "source": [
        "loss = 'binary_crossentropy'\n",
        "loss = 'categorical_crossentropy'"
      ],
      "execution_count": null,
      "outputs": []
    },
    {
      "cell_type": "code",
      "metadata": {
        "id": "NcdhW2jEq8XW",
        "colab_type": "code",
        "colab": {
          "base_uri": "https://localhost:8080/",
          "height": 34
        },
        "outputId": "e4a11a50-f1d7-4d38-ecac-10a65eab86a6"
      },
      "source": [
        "tf.keras.losses.binary_crossentropy"
      ],
      "execution_count": null,
      "outputs": [
        {
          "output_type": "execute_result",
          "data": {
            "text/plain": [
              "<function tensorflow.python.keras.losses.binary_crossentropy>"
            ]
          },
          "metadata": {
            "tags": []
          },
          "execution_count": 5
        }
      ]
    },
    {
      "cell_type": "code",
      "metadata": {
        "id": "t5bNOnMQq-7r",
        "colab_type": "code",
        "colab": {
          "base_uri": "https://localhost:8080/",
          "height": 34
        },
        "outputId": "4eaf942c-c9a8-4526-e67d-5faf63755b1a"
      },
      "source": [
        "tf.keras.losses.categorical_crossentropy"
      ],
      "execution_count": null,
      "outputs": [
        {
          "output_type": "execute_result",
          "data": {
            "text/plain": [
              "<function tensorflow.python.keras.losses.categorical_crossentropy>"
            ]
          },
          "metadata": {
            "tags": []
          },
          "execution_count": 6
        }
      ]
    },
    {
      "cell_type": "code",
      "metadata": {
        "id": "1OmBNoP-HGxw",
        "colab_type": "code",
        "colab": {}
      },
      "source": [
        "loss_fun = tf.keras.losses.sparse_categorical_crossentropy"
      ],
      "execution_count": null,
      "outputs": []
    },
    {
      "cell_type": "markdown",
      "metadata": {
        "id": "0543lOltqu5F",
        "colab_type": "text"
      },
      "source": [
        "#### One Hot 인코딩이 되지 않았을때 : Sparse"
      ]
    },
    {
      "cell_type": "code",
      "metadata": {
        "id": "BJlGcSlFquE1",
        "colab_type": "code",
        "colab": {
          "base_uri": "https://localhost:8080/",
          "height": 34
        },
        "outputId": "00820239-24fa-471b-a05e-abed333c20f2"
      },
      "source": [
        "tf.keras.losses.sparse_categorical_crossentropy"
      ],
      "execution_count": null,
      "outputs": [
        {
          "output_type": "execute_result",
          "data": {
            "text/plain": [
              "<function tensorflow.python.keras.losses.sparse_categorical_crossentropy>"
            ]
          },
          "metadata": {
            "tags": []
          },
          "execution_count": 8
        }
      ]
    },
    {
      "cell_type": "code",
      "metadata": {
        "id": "hmMFDYOUsrsU",
        "colab_type": "code",
        "colab": {}
      },
      "source": [
        "sparse_loss_func = tf.keras.losses.sparse_categorical_crossentropy"
      ],
      "execution_count": null,
      "outputs": []
    },
    {
      "cell_type": "markdown",
      "metadata": {
        "id": "Pnndui-trBUp",
        "colab_type": "text"
      },
      "source": [
        "### Metrics\n",
        "- 모델을 평가하는 방법\n",
        "- accuracy를 이름으로 넣는 방법"
      ]
    },
    {
      "cell_type": "code",
      "metadata": {
        "id": "sDlDuu_Wq3T2",
        "colab_type": "code",
        "colab": {}
      },
      "source": [
        "metrics = ['accuracy']"
      ],
      "execution_count": null,
      "outputs": []
    },
    {
      "cell_type": "markdown",
      "metadata": {
        "id": "WkU1DWP-rTR7",
        "colab_type": "text"
      },
      "source": [
        "- tf.keras.metrics"
      ]
    },
    {
      "cell_type": "code",
      "metadata": {
        "id": "pCTSEdZdrPlv",
        "colab_type": "code",
        "colab": {
          "base_uri": "https://localhost:8080/",
          "height": 34
        },
        "outputId": "d9225083-3af2-4728-e9c0-619f02e05729"
      },
      "source": [
        "tf.keras.metrics.Accuracy()\n",
        "tf.keras.metrics.Precision()\n",
        "tf.keras.metrics.Recall()"
      ],
      "execution_count": null,
      "outputs": [
        {
          "output_type": "execute_result",
          "data": {
            "text/plain": [
              "<tensorflow.python.keras.metrics.Recall at 0x7f4aa96c09b0>"
            ]
          },
          "metadata": {
            "tags": []
          },
          "execution_count": 11
        }
      ]
    },
    {
      "cell_type": "code",
      "metadata": {
        "id": "cUQrDYQwr3VT",
        "colab_type": "code",
        "colab": {}
      },
      "source": [
        "metrics = [tf.keras.metrics.Accuracy()]"
      ],
      "execution_count": null,
      "outputs": []
    },
    {
      "cell_type": "markdown",
      "metadata": {
        "id": "XU_z-e4urrwH",
        "colab_type": "text"
      },
      "source": [
        "### Compile\n",
        "- optimizer 적용 : 'sgd', 'rmsprop', 'adam'\n",
        "- sgd : tf.keras.optimizers.SGD()\n",
        "- rmsprop : tf.keras.optimizers.RMSprop()\n",
        "- adam : tf.keras.optimizers.Adam()"
      ]
    },
    {
      "cell_type": "code",
      "metadata": {
        "id": "FpI4jC7Kravc",
        "colab_type": "code",
        "colab": {}
      },
      "source": [
        "optm = tf.keras.optimizers.Adam()"
      ],
      "execution_count": null,
      "outputs": []
    },
    {
      "cell_type": "markdown",
      "metadata": {
        "id": "E_6lB1x3tNyf",
        "colab_type": "text"
      },
      "source": [
        "- optimizer = tf.keras.optimizers.Adam()\n",
        "- loss = tf.keras.losses.sparse_categorical_crossentropy\n",
        "- metrics = tf.keras.metrics.Accuracy()"
      ]
    },
    {
      "cell_type": "code",
      "metadata": {
        "id": "3T3o25RYIsH_",
        "colab_type": "code",
        "colab": {}
      },
      "source": [
        "model.compile(optimizer=tf.keras.optimizers.Adam(), \n",
        "              loss='sparse_categorical_crossentropy', \n",
        "              metrics=[tf.keras.metrics.SparseCategoricalAccuracy()])"
      ],
      "execution_count": null,
      "outputs": []
    },
    {
      "cell_type": "markdown",
      "metadata": {
        "id": "8hQ2sOlAtaIy",
        "colab_type": "text"
      },
      "source": [
        "---"
      ]
    },
    {
      "cell_type": "markdown",
      "metadata": {
        "id": "alDH8ODAtax_",
        "colab_type": "text"
      },
      "source": [
        "### Prepare Dataset"
      ]
    },
    {
      "cell_type": "code",
      "metadata": {
        "id": "JPl6JKbntCQJ",
        "colab_type": "code",
        "colab": {}
      },
      "source": [
        "mnist = datasets.mnist\n",
        "(train_x, train_y), (test_x, test_y) = mnist.load_data()"
      ],
      "execution_count": null,
      "outputs": []
    },
    {
      "cell_type": "code",
      "metadata": {
        "id": "768XjiNGtlXb",
        "colab_type": "code",
        "colab": {
          "base_uri": "https://localhost:8080/",
          "height": 34
        },
        "outputId": "71df7d6a-c893-47bc-c76a-e53b5a4c1d8b"
      },
      "source": [
        "train_x.shape, train_y.shape"
      ],
      "execution_count": null,
      "outputs": [
        {
          "output_type": "execute_result",
          "data": {
            "text/plain": [
              "((60000, 28, 28), (60000,))"
            ]
          },
          "metadata": {
            "tags": []
          },
          "execution_count": 17
        }
      ]
    },
    {
      "cell_type": "code",
      "metadata": {
        "id": "tfR__tGSHWC8",
        "colab_type": "code",
        "colab": {
          "base_uri": "https://localhost:8080/",
          "height": 34
        },
        "outputId": "c1edd260-2951-4708-c290-ca72b5d74ffa"
      },
      "source": [
        "test_x.shape, test_y.shape"
      ],
      "execution_count": null,
      "outputs": [
        {
          "output_type": "execute_result",
          "data": {
            "text/plain": [
              "((10000, 28, 28), (10000,))"
            ]
          },
          "metadata": {
            "tags": []
          },
          "execution_count": 18
        }
      ]
    },
    {
      "cell_type": "markdown",
      "metadata": {
        "id": "pmcaicZhttJp",
        "colab_type": "text"
      },
      "source": [
        "입력하는 데이터가 4차원이어야하는데 현재는 train_x의 차원이 3차원 임을 확인해 볼 수 있음"
      ]
    },
    {
      "cell_type": "markdown",
      "metadata": {
        "id": "lI21Xcgct1Ge",
        "colab_type": "text"
      },
      "source": [
        "차원 수 늘리기"
      ]
    },
    {
      "cell_type": "code",
      "metadata": {
        "id": "vDqVIa8Ftn6A",
        "colab_type": "code",
        "colab": {}
      },
      "source": [
        "import numpy as np"
      ],
      "execution_count": null,
      "outputs": []
    },
    {
      "cell_type": "markdown",
      "metadata": {
        "id": "JyO1f6Nft5tm",
        "colab_type": "text"
      },
      "source": [
        "- np.expand_dims( ) 활용"
      ]
    },
    {
      "cell_type": "code",
      "metadata": {
        "id": "zeKO9z7Qt25d",
        "colab_type": "code",
        "colab": {
          "base_uri": "https://localhost:8080/",
          "height": 34
        },
        "outputId": "fe7c7915-0336-46bc-f180-cfc921f2e1a9"
      },
      "source": [
        "np.expand_dims(train_x, -1).shape"
      ],
      "execution_count": null,
      "outputs": [
        {
          "output_type": "execute_result",
          "data": {
            "text/plain": [
              "(60000, 28, 28, 1)"
            ]
          },
          "metadata": {
            "tags": []
          },
          "execution_count": 20
        }
      ]
    },
    {
      "cell_type": "markdown",
      "metadata": {
        "id": "7yX2NsiQuBJn",
        "colab_type": "text"
      },
      "source": [
        "- tf.expand_dims( ) 활용"
      ]
    },
    {
      "cell_type": "code",
      "metadata": {
        "id": "JrGVahant5C2",
        "colab_type": "code",
        "colab": {
          "base_uri": "https://localhost:8080/",
          "height": 34
        },
        "outputId": "4afa9610-32be-42ed-d555-966d9a682456"
      },
      "source": [
        "tf.expand_dims(train_x, -1).shape"
      ],
      "execution_count": null,
      "outputs": [
        {
          "output_type": "execute_result",
          "data": {
            "text/plain": [
              "TensorShape([60000, 28, 28, 1])"
            ]
          },
          "metadata": {
            "tags": []
          },
          "execution_count": 21
        }
      ]
    },
    {
      "cell_type": "markdown",
      "metadata": {
        "id": "n0EJtc-duG7L",
        "colab_type": "text"
      },
      "source": [
        "- tf.newaxis 활용"
      ]
    },
    {
      "cell_type": "code",
      "metadata": {
        "id": "U4OL2hasuGKU",
        "colab_type": "code",
        "colab": {}
      },
      "source": [
        "train_x = train_x[..., tf.newaxis]\n",
        "test_x = test_x[..., tf.newaxis]"
      ],
      "execution_count": null,
      "outputs": []
    },
    {
      "cell_type": "markdown",
      "metadata": {
        "id": "V1Uj3Ca1uVAF",
        "colab_type": "text"
      },
      "source": [
        "기존 (60000, 28, 28) -> (60000, 28, 28, 1) 로 변경된 것을 확인할 수 있음"
      ]
    },
    {
      "cell_type": "code",
      "metadata": {
        "id": "8IeKNEwOuR19",
        "colab_type": "code",
        "colab": {
          "base_uri": "https://localhost:8080/",
          "height": 34
        },
        "outputId": "4543097b-5bd8-4aff-9a92-48324c022789"
      },
      "source": [
        "train_x.shape"
      ],
      "execution_count": null,
      "outputs": [
        {
          "output_type": "execute_result",
          "data": {
            "text/plain": [
              "(60000, 28, 28, 1)"
            ]
          },
          "metadata": {
            "tags": []
          },
          "execution_count": 23
        }
      ]
    },
    {
      "cell_type": "markdown",
      "metadata": {
        "id": "VJdYoP9Uulks",
        "colab_type": "text"
      },
      "source": [
        "### Rescaling"
      ]
    },
    {
      "cell_type": "code",
      "metadata": {
        "id": "jnr7CaUCuTO_",
        "colab_type": "code",
        "colab": {
          "base_uri": "https://localhost:8080/",
          "height": 34
        },
        "outputId": "47583739-16c6-468c-fa4a-57d4433e8378"
      },
      "source": [
        "np.min(train_x), np.max(train_x)"
      ],
      "execution_count": null,
      "outputs": [
        {
          "output_type": "execute_result",
          "data": {
            "text/plain": [
              "(0, 255)"
            ]
          },
          "metadata": {
            "tags": []
          },
          "execution_count": 24
        }
      ]
    },
    {
      "cell_type": "markdown",
      "metadata": {
        "id": "5NA8OTXtus6L",
        "colab_type": "text"
      },
      "source": [
        "최저의 값이 0, 최대의 값이 255이므로 모든 데이터를 0과 1 사이의 데이터로 바꾸기위해 255로 나누어줌"
      ]
    },
    {
      "cell_type": "code",
      "metadata": {
        "id": "YZQjJZIcusd_",
        "colab_type": "code",
        "colab": {}
      },
      "source": [
        "train_x = train_x / 255.\n",
        "test_x = test_x / 255."
      ],
      "execution_count": null,
      "outputs": []
    },
    {
      "cell_type": "code",
      "metadata": {
        "id": "HDjyX-WHu5mO",
        "colab_type": "code",
        "colab": {
          "base_uri": "https://localhost:8080/",
          "height": 34
        },
        "outputId": "f0cb41af-3019-4993-f0b0-d07ffe130fa2"
      },
      "source": [
        "np.min(train_x), np.max(train_x)"
      ],
      "execution_count": null,
      "outputs": [
        {
          "output_type": "execute_result",
          "data": {
            "text/plain": [
              "(0.0, 1.0)"
            ]
          },
          "metadata": {
            "tags": []
          },
          "execution_count": 26
        }
      ]
    },
    {
      "cell_type": "markdown",
      "metadata": {
        "id": "TcEe7xEyvKIX",
        "colab_type": "text"
      },
      "source": [
        "---"
      ]
    },
    {
      "cell_type": "markdown",
      "metadata": {
        "id": "H_C4cz-mgouW",
        "colab_type": "text"
      },
      "source": [
        "### Training"
      ]
    },
    {
      "cell_type": "code",
      "metadata": {
        "id": "HaMTjPLQgoCq",
        "colab_type": "code",
        "colab": {
          "base_uri": "https://localhost:8080/",
          "height": 54
        },
        "outputId": "ded59f30-d794-40f2-cea6-65121ece097b"
      },
      "source": [
        "hist = model.fit(train_x, train_y, batch_size=32, shuffle=True, epochs=1)"
      ],
      "execution_count": null,
      "outputs": [
        {
          "output_type": "stream",
          "text": [
            "1875/1875 [==============================] - 15s 8ms/step - loss: 0.1495 - sparse_categorical_accuracy: 0.9531\n"
          ],
          "name": "stdout"
        }
      ]
    },
    {
      "cell_type": "code",
      "metadata": {
        "id": "k4l3SY2_gxkH",
        "colab_type": "code",
        "colab": {
          "base_uri": "https://localhost:8080/",
          "height": 51
        },
        "outputId": "3155f0c9-e397-45bc-f324-4ecf82dcd816"
      },
      "source": [
        "hist.history"
      ],
      "execution_count": null,
      "outputs": [
        {
          "output_type": "execute_result",
          "data": {
            "text/plain": [
              "{'loss': [0.14946405589580536],\n",
              " 'sparse_categorical_accuracy': [0.9530666470527649]}"
            ]
          },
          "metadata": {
            "tags": []
          },
          "execution_count": 28
        }
      ]
    },
    {
      "cell_type": "markdown",
      "metadata": {
        "id": "SQQPSBOCg5Nk",
        "colab_type": "text"
      },
      "source": [
        "### Evaluating"
      ]
    },
    {
      "cell_type": "markdown",
      "metadata": {
        "id": "AU1Z13KDhAA6",
        "colab_type": "text"
      },
      "source": [
        "- model.evaluate : loss, accuracy 순서대로 나옴"
      ]
    },
    {
      "cell_type": "code",
      "metadata": {
        "id": "yoweJ1-rgzO5",
        "colab_type": "code",
        "colab": {
          "base_uri": "https://localhost:8080/",
          "height": 71
        },
        "outputId": "c2d7819c-7368-485a-cff7-99d171e32b09"
      },
      "source": [
        "model.evaluate(test_x, test_y, batch_size=32)"
      ],
      "execution_count": null,
      "outputs": [
        {
          "output_type": "stream",
          "text": [
            "313/313 [==============================] - 1s 5ms/step - loss: 0.0398 - sparse_categorical_accuracy: 0.9865\n"
          ],
          "name": "stdout"
        },
        {
          "output_type": "execute_result",
          "data": {
            "text/plain": [
              "[0.03977954387664795, 0.9865000247955322]"
            ]
          },
          "metadata": {
            "tags": []
          },
          "execution_count": 29
        }
      ]
    },
    {
      "cell_type": "markdown",
      "metadata": {
        "id": "FxkoVXE_hN_3",
        "colab_type": "text"
      },
      "source": [
        "### 결과 확인\n",
        "- input으로 들어갈 이미지 데이터 화면"
      ]
    },
    {
      "cell_type": "code",
      "metadata": {
        "id": "MicjE7Trg-jc",
        "colab_type": "code",
        "colab": {}
      },
      "source": [
        "import matplotlib.pyplot as plt\n",
        "import numpy as np"
      ],
      "execution_count": null,
      "outputs": []
    },
    {
      "cell_type": "code",
      "metadata": {
        "id": "GsbGN3XqhUxG",
        "colab_type": "code",
        "colab": {
          "base_uri": "https://localhost:8080/",
          "height": 34
        },
        "outputId": "884339cf-5bc7-415c-865b-2c982312473f"
      },
      "source": [
        "test_image = test_x[0, :, :, 0]\n",
        "test_image.shape"
      ],
      "execution_count": null,
      "outputs": [
        {
          "output_type": "execute_result",
          "data": {
            "text/plain": [
              "(28, 28)"
            ]
          },
          "metadata": {
            "tags": []
          },
          "execution_count": 31
        }
      ]
    },
    {
      "cell_type": "code",
      "metadata": {
        "id": "LMCdz9jLhYEt",
        "colab_type": "code",
        "colab": {
          "base_uri": "https://localhost:8080/",
          "height": 281
        },
        "outputId": "6dc5f91e-d8f5-4696-fd53-9b4628e88193"
      },
      "source": [
        "plt.title(test_y[0])\n",
        "plt.imshow(test_image, 'gray')\n",
        "plt.show()"
      ],
      "execution_count": null,
      "outputs": [
        {
          "output_type": "display_data",
          "data": {
            "image/png": "[encoded data removed]",
            "text/plain": [
              "<Figure size 432x288 with 1 Axes>"
            ]
          },
          "metadata": {
            "tags": [],
            "needs_background": "light"
          }
        }
      ]
    },
    {
      "cell_type": "markdown",
      "metadata": {
        "id": "k_KIoOfVhelv",
        "colab_type": "text"
      },
      "source": [
        "- 모델에 Input Data로 확인 할 이미지 데이터 넣기"
      ]
    },
    {
      "cell_type": "code",
      "metadata": {
        "id": "pLngGEgvhdQh",
        "colab_type": "code",
        "colab": {}
      },
      "source": [
        "pred = model.predict(test_image.reshape(1, 28, 28, 1))"
      ],
      "execution_count": null,
      "outputs": []
    },
    {
      "cell_type": "markdown",
      "metadata": {
        "id": "cYeX-lZIh1Py",
        "colab_type": "text"
      },
      "source": [
        "- 각 라벨이 될 확률 10개\n",
        "- softmax를 사용하였기에 모든 값을 합하면 1"
      ]
    },
    {
      "cell_type": "code",
      "metadata": {
        "id": "9ubSXc8Phvpi",
        "colab_type": "code",
        "colab": {
          "base_uri": "https://localhost:8080/",
          "height": 68
        },
        "outputId": "472f3597-74fc-426a-8cf8-7cc5498a3c57"
      },
      "source": [
        "pred"
      ],
      "execution_count": null,
      "outputs": [
        {
          "output_type": "execute_result",
          "data": {
            "text/plain": [
              "array([[5.12877629e-10, 1.41242651e-09, 3.40660611e-09, 5.95750755e-08,\n",
              "        1.03356178e-10, 6.63809174e-10, 1.81957531e-13, 9.99999762e-01,\n",
              "        6.76751877e-10, 1.04876676e-07]], dtype=float32)"
            ]
          },
          "metadata": {
            "tags": []
          },
          "execution_count": 34
        }
      ]
    },
    {
      "cell_type": "code",
      "metadata": {
        "id": "wz03WcDuhwuY",
        "colab_type": "code",
        "colab": {
          "base_uri": "https://localhost:8080/",
          "height": 34
        },
        "outputId": "a7ab8465-98cc-414d-8e47-8467bd6a0160"
      },
      "source": [
        "pred.shape"
      ],
      "execution_count": null,
      "outputs": [
        {
          "output_type": "execute_result",
          "data": {
            "text/plain": [
              "(1, 10)"
            ]
          },
          "metadata": {
            "tags": []
          },
          "execution_count": 36
        }
      ]
    },
    {
      "cell_type": "markdown",
      "metadata": {
        "id": "RUrizeWch8xA",
        "colab_type": "text"
      },
      "source": [
        "- np.argmax"
      ]
    },
    {
      "cell_type": "code",
      "metadata": {
        "id": "lXT-A6jkhyNr",
        "colab_type": "code",
        "colab": {
          "base_uri": "https://localhost:8080/",
          "height": 34
        },
        "outputId": "b930705c-2dca-400c-a237-4f01cc9d1976"
      },
      "source": [
        "np.argmax(pred)"
      ],
      "execution_count": null,
      "outputs": [
        {
          "output_type": "execute_result",
          "data": {
            "text/plain": [
              "7"
            ]
          },
          "metadata": {
            "tags": []
          },
          "execution_count": 37
        }
      ]
    },
    {
      "cell_type": "markdown",
      "metadata": {
        "id": "Xh0C93IEiPrU",
        "colab_type": "text"
      },
      "source": [
        "### Test Batch\n",
        "- Batch로 Test DataSet 넣기"
      ]
    },
    {
      "cell_type": "code",
      "metadata": {
        "id": "chCVXJ5YiI8E",
        "colab_type": "code",
        "colab": {
          "base_uri": "https://localhost:8080/",
          "height": 34
        },
        "outputId": "c3de1401-3251-4ff7-bbae-f10fd51ac998"
      },
      "source": [
        "test_batch = test_x[:32]\n",
        "test_batch.shape"
      ],
      "execution_count": null,
      "outputs": [
        {
          "output_type": "execute_result",
          "data": {
            "text/plain": [
              "(32, 28, 28, 1)"
            ]
          },
          "metadata": {
            "tags": []
          },
          "execution_count": 38
        }
      ]
    },
    {
      "cell_type": "markdown",
      "metadata": {
        "id": "aPFlKXAciXZP",
        "colab_type": "text"
      },
      "source": [
        "모델에 넣어보기"
      ]
    },
    {
      "cell_type": "code",
      "metadata": {
        "id": "Tpu6qmJ4iV_V",
        "colab_type": "code",
        "colab": {
          "base_uri": "https://localhost:8080/",
          "height": 1000
        },
        "outputId": "32335d1a-653d-4fcc-b6f9-16942a04d459"
      },
      "source": [
        "preds = model.predict(test_batch)\n",
        "preds"
      ],
      "execution_count": 39,
      "outputs": [
        {
          "output_type": "execute_result",
          "data": {
            "text/plain": [
              "array([[5.12879572e-10, 1.41243184e-09, 3.40661921e-09, 5.95753065e-08,\n",
              "        1.03356573e-10, 6.63811728e-10, 1.81957531e-13, 9.99999762e-01,\n",
              "        6.76755763e-10, 1.04877088e-07],\n",
              "       [1.22731512e-06, 8.27563872e-06, 9.99983668e-01, 3.74694963e-07,\n",
              "        6.39378399e-08, 1.59321745e-09, 5.37697406e-06, 1.02133406e-07,\n",
              "        8.29560349e-07, 4.03613143e-09],\n",
              "       [7.88310643e-08, 9.99979258e-01, 1.09033543e-07, 5.08561770e-09,\n",
              "        1.32094401e-05, 4.87317436e-07, 3.53993596e-06, 2.78577386e-06,\n",
              "        4.17508147e-07, 9.93002160e-08],\n",
              "       [9.99998569e-01, 4.06707779e-10, 2.17561524e-08, 5.53026203e-09,\n",
              "        9.71897229e-09, 8.11925105e-09, 2.83240183e-07, 3.68579229e-08,\n",
              "        7.47447132e-07, 3.54668003e-07],\n",
              "       [1.37720919e-08, 9.87609923e-08, 9.81551622e-08, 4.82596452e-09,\n",
              "        9.99941468e-01, 6.47657927e-09, 7.20846671e-08, 9.20325434e-08,\n",
              "        5.85015925e-07, 5.76237871e-05],\n",
              "       [2.67823221e-08, 9.99994516e-01, 1.50747557e-08, 5.94170768e-10,\n",
              "        2.79046685e-06, 4.12089705e-08, 2.98234227e-07, 2.05662514e-06,\n",
              "        2.28430693e-07, 4.54411087e-08],\n",
              "       [1.60956844e-07, 1.31480643e-04, 2.16921148e-06, 1.72365674e-06,\n",
              "        9.01469648e-01, 8.74730540e-05, 6.19801676e-06, 1.79751980e-04,\n",
              "        9.45408940e-02, 3.58057325e-03],\n",
              "       [3.68187017e-07, 2.08669661e-07, 1.74429272e-06, 1.76925550e-06,\n",
              "        4.76889283e-04, 3.54404119e-06, 7.93815413e-09, 5.57325802e-06,\n",
              "        2.76871782e-04, 9.99233127e-01],\n",
              "       [3.68802599e-03, 3.03164666e-06, 3.43037550e-06, 2.02674164e-06,\n",
              "        6.48030604e-04, 3.58734697e-01, 8.37568492e-02, 1.80145871e-05,\n",
              "        2.89929748e-01, 2.63216168e-01],\n",
              "       [4.25165467e-08, 9.82816140e-09, 1.98129424e-09, 1.97990616e-07,\n",
              "        6.13753582e-06, 1.42812539e-07, 2.21526738e-11, 3.48981674e-04,\n",
              "        1.39318756e-04, 9.99505162e-01],\n",
              "       [9.99999881e-01, 1.72606963e-11, 7.64104247e-09, 4.97030542e-11,\n",
              "        1.39311869e-11, 6.93358218e-11, 2.36210562e-09, 1.45083265e-10,\n",
              "        1.16570064e-07, 6.88812285e-10],\n",
              "       [7.61215051e-06, 4.71417705e-09, 4.02250899e-09, 3.21889668e-11,\n",
              "        1.36241782e-08, 1.18035244e-08, 9.99992251e-01, 5.59450597e-10,\n",
              "        1.59301692e-07, 1.15104835e-10],\n",
              "       [2.65421218e-09, 1.04689681e-10, 5.64537687e-11, 8.47100523e-09,\n",
              "        4.48978608e-06, 1.25959101e-08, 5.26717862e-12, 2.45268461e-06,\n",
              "        4.83930962e-05, 9.99944687e-01],\n",
              "       [1.00000000e+00, 1.45283134e-11, 2.53305682e-10, 3.52909611e-11,\n",
              "        3.32174774e-11, 6.94630325e-11, 5.27025867e-10, 2.42624787e-09,\n",
              "        5.34652429e-08, 2.39918907e-09],\n",
              "       [1.87742066e-09, 9.99999642e-01, 3.47068219e-09, 6.30575014e-09,\n",
              "        1.23528721e-07, 1.58996599e-07, 2.01235935e-08, 1.08281178e-07,\n",
              "        1.54989905e-08, 3.45993523e-09],\n",
              "       [5.84902466e-07, 8.57806208e-06, 3.08561471e-06, 8.45848117e-03,\n",
              "        1.94889111e-07, 9.91375387e-01, 2.35302996e-05, 1.27156954e-05,\n",
              "        1.11549234e-04, 5.75334070e-06],\n",
              "       [4.49323601e-08, 3.88234972e-10, 4.44947501e-09, 4.25089084e-08,\n",
              "        1.19158367e-05, 1.69916383e-08, 1.57203181e-10, 5.74891601e-06,\n",
              "        6.95009876e-05, 9.99912739e-01],\n",
              "       [6.21535656e-10, 8.94536320e-11, 6.64949817e-10, 4.23892139e-08,\n",
              "        1.85469747e-11, 7.40507322e-10, 4.42039593e-14, 9.99999881e-01,\n",
              "        6.41551257e-11, 8.89569520e-08],\n",
              "       [1.62709421e-05, 1.69425068e-04, 3.08342744e-03, 8.28269660e-01,\n",
              "        3.05901776e-05, 1.35469241e-02, 7.11336470e-05, 3.97255906e-04,\n",
              "        1.54276311e-01, 1.38945368e-04],\n",
              "       [8.43501713e-10, 3.43348631e-07, 3.20724638e-08, 1.34308271e-08,\n",
              "        9.99984860e-01, 3.76058082e-08, 8.08579070e-09, 3.81412656e-06,\n",
              "        4.57831590e-07, 1.05137697e-05],\n",
              "       [3.91061485e-06, 6.17406658e-06, 1.49892031e-07, 3.46478664e-05,\n",
              "        1.79519906e-04, 7.46005971e-05, 9.96272753e-09, 1.63083486e-02,\n",
              "        1.56610666e-04, 9.83236015e-01],\n",
              "       [8.64335902e-07, 1.56574309e-08, 2.84169097e-08, 6.35354769e-10,\n",
              "        2.44588598e-08, 6.77423941e-06, 9.99983191e-01, 2.81522139e-10,\n",
              "        9.01519797e-06, 3.13157567e-09],\n",
              "       [1.30241040e-06, 8.77434658e-08, 9.22443455e-09, 7.77925016e-11,\n",
              "        4.42048849e-06, 1.42401333e-07, 9.99993801e-01, 2.29952768e-08,\n",
              "        2.69519887e-07, 7.83309595e-09],\n",
              "       [2.23638651e-07, 9.75263692e-09, 7.49212081e-10, 4.21633695e-06,\n",
              "        1.50746644e-07, 9.99456704e-01, 1.20211389e-05, 5.10759968e-08,\n",
              "        4.58935165e-06, 5.22197399e-04],\n",
              "       [8.34179747e-09, 1.25672182e-06, 3.91419491e-07, 3.30847030e-08,\n",
              "        9.99966383e-01, 6.48891074e-08, 1.09138675e-07, 4.54776773e-06,\n",
              "        1.98121552e-06, 2.51450329e-05],\n",
              "       [9.99992967e-01, 9.70176384e-10, 1.38306319e-07, 5.46838796e-09,\n",
              "        1.07987725e-08, 4.74155781e-09, 2.40211676e-07, 1.91024281e-08,\n",
              "        5.93626191e-06, 7.62204650e-07],\n",
              "       [1.16803065e-07, 2.85672463e-09, 5.51386172e-08, 2.50934761e-07,\n",
              "        7.87782195e-09, 6.69291822e-08, 1.18911790e-11, 9.99974847e-01,\n",
              "        5.19465138e-09, 2.45969350e-05],\n",
              "       [1.62256775e-12, 2.12546580e-09, 1.09444814e-10, 1.36765902e-11,\n",
              "        9.99999642e-01, 7.83406048e-11, 1.50891678e-11, 1.43670886e-09,\n",
              "        1.93179561e-09, 3.42398920e-07],\n",
              "       [9.99999881e-01, 2.08359982e-10, 5.00000787e-08, 4.52712490e-09,\n",
              "        3.83519994e-10, 3.00401398e-10, 1.36972844e-09, 6.03006782e-08,\n",
              "        3.60715191e-08, 4.20903534e-10],\n",
              "       [1.03048317e-08, 9.99991179e-01, 6.06128765e-08, 1.67802057e-08,\n",
              "        1.57336569e-06, 1.15939535e-07, 6.74424712e-08, 5.84693362e-06,\n",
              "        9.83402856e-07, 4.67331454e-08],\n",
              "       [1.57468871e-09, 2.53149295e-07, 2.34233127e-07, 9.99964476e-01,\n",
              "        9.41244682e-09, 6.55827944e-06, 6.24107710e-11, 1.77309976e-05,\n",
              "        2.68642459e-08, 1.06687366e-05],\n",
              "       [1.11069309e-09, 9.99994993e-01, 5.60821078e-09, 1.68460967e-09,\n",
              "        2.36185429e-06, 2.42201121e-08, 2.75198730e-09, 2.65566882e-06,\n",
              "        2.47141614e-08, 3.45218858e-08]], dtype=float32)"
            ]
          },
          "metadata": {
            "tags": []
          },
          "execution_count": 39
        }
      ]
    },
    {
      "cell_type": "markdown",
      "metadata": {
        "id": "fPPiJ64mizLN",
        "colab_type": "text"
      },
      "source": [
        "preds, -1 해주어야 모든 데이터에 대한 결과를 볼 수 있음"
      ]
    },
    {
      "cell_type": "code",
      "metadata": {
        "id": "_rfIdESwio9b",
        "colab_type": "code",
        "colab": {
          "base_uri": "https://localhost:8080/",
          "height": 51
        },
        "outputId": "7479f8ff-862f-405b-c597-60a2a5b3e0f5"
      },
      "source": [
        "np.argmax(preds, -1)"
      ],
      "execution_count": 40,
      "outputs": [
        {
          "output_type": "execute_result",
          "data": {
            "text/plain": [
              "array([7, 2, 1, 0, 4, 1, 4, 9, 5, 9, 0, 6, 9, 0, 1, 5, 9, 7, 3, 4, 9, 6,\n",
              "       6, 5, 4, 0, 7, 4, 0, 1, 3, 1])"
            ]
          },
          "metadata": {
            "tags": []
          },
          "execution_count": 40
        }
      ]
    },
    {
      "cell_type": "code",
      "metadata": {
        "id": "_PwNxLJFjIwZ",
        "colab_type": "code",
        "colab": {
          "base_uri": "https://localhost:8080/",
          "height": 51
        },
        "outputId": "280092d7-080a-4451-bb4d-2ebbb3bffae9"
      },
      "source": [
        "pred_labels = np.argmax(preds, -1)\n",
        "pred_labels"
      ],
      "execution_count": 42,
      "outputs": [
        {
          "output_type": "execute_result",
          "data": {
            "text/plain": [
              "array([7, 2, 1, 0, 4, 1, 4, 9, 5, 9, 0, 6, 9, 0, 1, 5, 9, 7, 3, 4, 9, 6,\n",
              "       6, 5, 4, 0, 7, 4, 0, 1, 3, 1])"
            ]
          },
          "metadata": {
            "tags": []
          },
          "execution_count": 42
        }
      ]
    },
    {
      "cell_type": "code",
      "metadata": {
        "id": "Emm5GrPOiwQd",
        "colab_type": "code",
        "colab": {
          "base_uri": "https://localhost:8080/",
          "height": 34
        },
        "outputId": "b20eeabb-8613-4119-dddf-c6933877e9e3"
      },
      "source": [
        "np.argmax(preds, -1).shape"
      ],
      "execution_count": 41,
      "outputs": [
        {
          "output_type": "execute_result",
          "data": {
            "text/plain": [
              "(32,)"
            ]
          },
          "metadata": {
            "tags": []
          },
          "execution_count": 41
        }
      ]
    },
    {
      "cell_type": "code",
      "metadata": {
        "id": "8yCAphMwiyxr",
        "colab_type": "code",
        "colab": {
          "base_uri": "https://localhost:8080/",
          "height": 1000
        },
        "outputId": "e5870c19-2f7c-4eea-ab53-64eae9d18445"
      },
      "source": [
        "for i in range(5):\n",
        "    plt.imshow(test_batch[i, :, :, 0], 'gray')\n",
        "    plt.title(pred_labels[i])\n",
        "    plt.show()"
      ],
      "execution_count": 43,
      "outputs": [
        {
          "output_type": "display_data",
          "data": {
            "image/png": "[encoded data removed]",
            "text/plain": [
              "<Figure size 432x288 with 1 Axes>"
            ]
          },
          "metadata": {
            "tags": [],
            "needs_background": "light"
          }
        },
        {
          "output_type": "display_data",
          "data": {
            "image/png": "[encoded data removed]",
            "text/plain": [
              "<Figure size 432x288 with 1 Axes>"
            ]
          },
          "metadata": {
            "tags": [],
            "needs_background": "light"
          }
        },
        {
          "output_type": "display_data",
          "data": {
            "image/png": "[encoded data removed]",
            "text/plain": [
              "<Figure size 432x288 with 1 Axes>"
            ]
          },
          "metadata": {
            "tags": [],
            "needs_background": "light"
          }
        },
        {
          "output_type": "display_data",
          "data": {
            "image/png": "[encoded data removed]",
            "text/plain": [
              "<Figure size 432x288 with 1 Axes>"
            ]
          },
          "metadata": {
            "tags": [],
            "needs_background": "light"
          }
        },
        {
          "output_type": "display_data",
          "data": {
            "image/png": "[encoded data removed]",
            "text/plain": [
              "<Figure size 432x288 with 1 Axes>"
            ]
          },
          "metadata": {
            "tags": [],
            "needs_background": "light"
          }
        }
      ]
    }
  ]
}