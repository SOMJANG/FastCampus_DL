{
  "nbformat": 4,
  "nbformat_minor": 0,
  "metadata": {
    "colab": {
      "name": "DAY04_TensorFlow2.0 기본 사용법.ipynb",
      "provenance": []
    },
    "kernelspec": {
      "name": "python3",
      "display_name": "Python 3"
    }
  },
  "cells": [
    {
      "cell_type": "markdown",
      "metadata": {
        "id": "kzato_RQfPFD",
        "colab_type": "text"
      },
      "source": [
        "## TensorFlow 2.0 간단 사용법"
      ]
    },
    {
      "cell_type": "code",
      "metadata": {
        "id": "zJ4Cpcvgdkf8",
        "colab_type": "code",
        "colab": {}
      },
      "source": [
        "import numpy as np\n",
        "import tensorflow as tf"
      ],
      "execution_count": 1,
      "outputs": []
    },
    {
      "cell_type": "markdown",
      "metadata": {
        "id": "C7p-vMbKfV-b",
        "colab_type": "text"
      },
      "source": [
        "### Tensor 생성"
      ]
    },
    {
      "cell_type": "markdown",
      "metadata": {
        "id": "tiSR-Cl8fqSM",
        "colab_type": "text"
      },
      "source": [
        "- tf.constant() : list, tuple, Array를 Tensor로 바꾸어줌"
      ]
    },
    {
      "cell_type": "code",
      "metadata": {
        "id": "SsBT-207fVXM",
        "colab_type": "code",
        "colab": {
          "base_uri": "https://localhost:8080/",
          "height": 34
        },
        "outputId": "642ed9e6-3e96-4972-e31a-d2348fccc6f5"
      },
      "source": [
        "tf.constant([1, 2, 3])"
      ],
      "execution_count": 2,
      "outputs": [
        {
          "output_type": "execute_result",
          "data": {
            "text/plain": [
              "<tf.Tensor: shape=(3,), dtype=int32, numpy=array([1, 2, 3], dtype=int32)>"
            ]
          },
          "metadata": {
            "tags": []
          },
          "execution_count": 2
        }
      ]
    },
    {
      "cell_type": "code",
      "metadata": {
        "id": "_265OB8Qfw-4",
        "colab_type": "code",
        "colab": {
          "base_uri": "https://localhost:8080/",
          "height": 68
        },
        "outputId": "dddab320-def9-44b8-e0ca-410b5ca85f22"
      },
      "source": [
        "tf.constant(((1, 2, 3), (1, 2, 3)))"
      ],
      "execution_count": 4,
      "outputs": [
        {
          "output_type": "execute_result",
          "data": {
            "text/plain": [
              "<tf.Tensor: shape=(2, 3), dtype=int32, numpy=\n",
              "array([[1, 2, 3],\n",
              "       [1, 2, 3]], dtype=int32)>"
            ]
          },
          "metadata": {
            "tags": []
          },
          "execution_count": 4
        }
      ]
    },
    {
      "cell_type": "code",
      "metadata": {
        "id": "iSVOllZKf5ka",
        "colab_type": "code",
        "colab": {
          "base_uri": "https://localhost:8080/",
          "height": 34
        },
        "outputId": "e3121abe-90d8-49e4-e0b6-2043cc05ed7d"
      },
      "source": [
        "arr = np.array([ 1, 2, 3 ])\n",
        "arr"
      ],
      "execution_count": 5,
      "outputs": [
        {
          "output_type": "execute_result",
          "data": {
            "text/plain": [
              "array([1, 2, 3])"
            ]
          },
          "metadata": {
            "tags": []
          },
          "execution_count": 5
        }
      ]
    },
    {
      "cell_type": "code",
      "metadata": {
        "id": "1G68YfAvgHK1",
        "colab_type": "code",
        "colab": {
          "base_uri": "https://localhost:8080/",
          "height": 34
        },
        "outputId": "4e2f8e00-6d90-4661-891f-229f0ffd2fb3"
      },
      "source": [
        "tf.constant(arr)"
      ],
      "execution_count": 6,
      "outputs": [
        {
          "output_type": "execute_result",
          "data": {
            "text/plain": [
              "<tf.Tensor: shape=(3,), dtype=int64, numpy=array([1, 2, 3])>"
            ]
          },
          "metadata": {
            "tags": []
          },
          "execution_count": 6
        }
      ]
    },
    {
      "cell_type": "code",
      "metadata": {
        "id": "YSF0LkfrgIbk",
        "colab_type": "code",
        "colab": {
          "base_uri": "https://localhost:8080/",
          "height": 34
        },
        "outputId": "bc4df3dd-56a3-442d-c070-67153d4ac3f3"
      },
      "source": [
        "tensor = tf.constant(arr)\n",
        "tensor"
      ],
      "execution_count": 7,
      "outputs": [
        {
          "output_type": "execute_result",
          "data": {
            "text/plain": [
              "<tf.Tensor: shape=(3,), dtype=int64, numpy=array([1, 2, 3])>"
            ]
          },
          "metadata": {
            "tags": []
          },
          "execution_count": 7
        }
      ]
    },
    {
      "cell_type": "markdown",
      "metadata": {
        "id": "YR5vq10ngQU9",
        "colab_type": "text"
      },
      "source": [
        "---"
      ]
    },
    {
      "cell_type": "markdown",
      "metadata": {
        "id": "o7l6UG3WgNyl",
        "colab_type": "text"
      },
      "source": [
        "### Tensor에 담긴 정보 확인"
      ]
    },
    {
      "cell_type": "markdown",
      "metadata": {
        "id": "F-1j_CsogRUX",
        "colab_type": "text"
      },
      "source": [
        "- shape 확인"
      ]
    },
    {
      "cell_type": "code",
      "metadata": {
        "id": "iDkiZ2L1gMwi",
        "colab_type": "code",
        "colab": {
          "base_uri": "https://localhost:8080/",
          "height": 34
        },
        "outputId": "33dd2247-60ae-4711-d1db-c0c4cb7bb0cd"
      },
      "source": [
        "tensor.shape"
      ],
      "execution_count": 8,
      "outputs": [
        {
          "output_type": "execute_result",
          "data": {
            "text/plain": [
              "TensorShape([3])"
            ]
          },
          "metadata": {
            "tags": []
          },
          "execution_count": 8
        }
      ]
    },
    {
      "cell_type": "markdown",
      "metadata": {
        "id": "5ln9r-wZh6C_",
        "colab_type": "text"
      },
      "source": [
        "- data type 정의"
      ]
    },
    {
      "cell_type": "code",
      "metadata": {
        "id": "hQe3N5-6h7wM",
        "colab_type": "code",
        "colab": {
          "base_uri": "https://localhost:8080/",
          "height": 34
        },
        "outputId": "130affa7-ecda-4c91-cc88-62c7233c7a03"
      },
      "source": [
        "tensor = tf.constant([1, 2, 3], dtype=tf.float32)\n",
        "tensor"
      ],
      "execution_count": 11,
      "outputs": [
        {
          "output_type": "execute_result",
          "data": {
            "text/plain": [
              "<tf.Tensor: shape=(3,), dtype=float32, numpy=array([1., 2., 3.], dtype=float32)>"
            ]
          },
          "metadata": {
            "tags": []
          },
          "execution_count": 11
        }
      ]
    },
    {
      "cell_type": "markdown",
      "metadata": {
        "id": "MZTJs1hWhzyz",
        "colab_type": "text"
      },
      "source": [
        "- data type 확인 : dtype"
      ]
    },
    {
      "cell_type": "code",
      "metadata": {
        "id": "l2memvqkh2mR",
        "colab_type": "code",
        "colab": {
          "base_uri": "https://localhost:8080/",
          "height": 34
        },
        "outputId": "d2b7e4d7-8f54-487f-cdee-e8f3de79dc54"
      },
      "source": [
        "tensor.dtype"
      ],
      "execution_count": 12,
      "outputs": [
        {
          "output_type": "execute_result",
          "data": {
            "text/plain": [
              "tf.float32"
            ]
          },
          "metadata": {
            "tags": []
          },
          "execution_count": 12
        }
      ]
    },
    {
      "cell_type": "markdown",
      "metadata": {
        "id": "GPko_Du5hn3u",
        "colab_type": "text"
      },
      "source": [
        "- data type 변환 : Numpy의 astype( ) 처럼 TensorFlow에서는 tf.cast( ) 를 활용"
      ]
    },
    {
      "cell_type": "code",
      "metadata": {
        "id": "1ubQmF11gWWa",
        "colab_type": "code",
        "colab": {
          "base_uri": "https://localhost:8080/",
          "height": 34
        },
        "outputId": "1d1f2f54-010f-42e9-b6ba-716bbf2aa0d5"
      },
      "source": [
        "tf.cast(tensor, dtype=tf.int32)"
      ],
      "execution_count": 13,
      "outputs": [
        {
          "output_type": "execute_result",
          "data": {
            "text/plain": [
              "<tf.Tensor: shape=(3,), dtype=int32, numpy=array([1, 2, 3], dtype=int32)>"
            ]
          },
          "metadata": {
            "tags": []
          },
          "execution_count": 13
        }
      ]
    },
    {
      "cell_type": "code",
      "metadata": {
        "id": "IRITf-lFiUu4",
        "colab_type": "code",
        "colab": {
          "base_uri": "https://localhost:8080/",
          "height": 34
        },
        "outputId": "01c13e00-baab-4408-d864-546750841e26"
      },
      "source": [
        "tensor"
      ],
      "execution_count": 14,
      "outputs": [
        {
          "output_type": "execute_result",
          "data": {
            "text/plain": [
              "<tf.Tensor: shape=(3,), dtype=float32, numpy=array([1., 2., 3.], dtype=float32)>"
            ]
          },
          "metadata": {
            "tags": []
          },
          "execution_count": 14
        }
      ]
    },
    {
      "cell_type": "markdown",
      "metadata": {
        "id": "74bhFleciX8p",
        "colab_type": "text"
      },
      "source": [
        "- tensor에서 Numpy 불러오기 : np.array( ) / .numpy( ) 활용"
      ]
    },
    {
      "cell_type": "code",
      "metadata": {
        "id": "vOUyyo3FiWIb",
        "colab_type": "code",
        "colab": {
          "base_uri": "https://localhost:8080/",
          "height": 34
        },
        "outputId": "4cd155dd-c072-4c4d-efaf-9ec6b97dc597"
      },
      "source": [
        "np.array(tensor)"
      ],
      "execution_count": 15,
      "outputs": [
        {
          "output_type": "execute_result",
          "data": {
            "text/plain": [
              "array([1., 2., 3.], dtype=float32)"
            ]
          },
          "metadata": {
            "tags": []
          },
          "execution_count": 15
        }
      ]
    },
    {
      "cell_type": "code",
      "metadata": {
        "id": "68VAwjrmiz6d",
        "colab_type": "code",
        "colab": {
          "base_uri": "https://localhost:8080/",
          "height": 34
        },
        "outputId": "9c9f1b97-9a88-416f-9e96-7fde8a71e565"
      },
      "source": [
        "tensor.numpy()"
      ],
      "execution_count": 16,
      "outputs": [
        {
          "output_type": "execute_result",
          "data": {
            "text/plain": [
              "array([1., 2., 3.], dtype=float32)"
            ]
          },
          "metadata": {
            "tags": []
          },
          "execution_count": 16
        }
      ]
    },
    {
      "cell_type": "markdown",
      "metadata": {
        "id": "lRqvtJ9djCTl",
        "colab_type": "text"
      },
      "source": [
        "---"
      ]
    },
    {
      "cell_type": "markdown",
      "metadata": {
        "id": "B-7moYbSjDgV",
        "colab_type": "text"
      },
      "source": [
        "### 난수 생성"
      ]
    },
    {
      "cell_type": "markdown",
      "metadata": {
        "id": "AAgIZIozjkrO",
        "colab_type": "text"
      },
      "source": [
        "- Normal Distribution : tf.random.normal == np.random.randn\n",
        "- Uniform Distribution : tf.random.uniform"
      ]
    },
    {
      "cell_type": "code",
      "metadata": {
        "id": "J7pa82ZVi63G",
        "colab_type": "code",
        "colab": {
          "base_uri": "https://localhost:8080/",
          "height": 85
        },
        "outputId": "04bac801-9753-4592-d993-6859f7c38946"
      },
      "source": [
        "tf.random.normal([3, 3])"
      ],
      "execution_count": 17,
      "outputs": [
        {
          "output_type": "execute_result",
          "data": {
            "text/plain": [
              "<tf.Tensor: shape=(3, 3), dtype=float32, numpy=\n",
              "array([[-2.0487728 ,  0.6003536 ,  0.11923807],\n",
              "       [-0.17404579, -1.1506113 ,  0.84336704],\n",
              "       [ 0.30083656,  0.95827097,  0.90375173]], dtype=float32)>"
            ]
          },
          "metadata": {
            "tags": []
          },
          "execution_count": 17
        }
      ]
    },
    {
      "cell_type": "code",
      "metadata": {
        "id": "0WCtg_FhkGn-",
        "colab_type": "code",
        "colab": {
          "base_uri": "https://localhost:8080/",
          "height": 85
        },
        "outputId": "1bba6781-aad2-4e87-b6e3-97319543f947"
      },
      "source": [
        "tf.random.uniform([3, 3])"
      ],
      "execution_count": 19,
      "outputs": [
        {
          "output_type": "execute_result",
          "data": {
            "text/plain": [
              "<tf.Tensor: shape=(3, 3), dtype=float32, numpy=\n",
              "array([[0.2103771 , 0.18460417, 0.54693496],\n",
              "       [0.3190844 , 0.57180023, 0.70573115],\n",
              "       [0.40603685, 0.58343196, 0.538077  ]], dtype=float32)>"
            ]
          },
          "metadata": {
            "tags": []
          },
          "execution_count": 19
        }
      ]
    }
  ]
}