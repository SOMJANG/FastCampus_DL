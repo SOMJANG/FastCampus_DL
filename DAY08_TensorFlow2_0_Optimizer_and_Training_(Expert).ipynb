{
  "nbformat": 4,
  "nbformat_minor": 0,
  "metadata": {
    "colab": {
      "name": "DAY08_TensorFlow2.0 Optimizer and Training (Expert).ipynb",
      "provenance": [],
      "collapsed_sections": []
    },
    "kernelspec": {
      "name": "python3",
      "display_name": "Python 3"
    },
    "accelerator": "GPU"
  },
  "cells": [
    {
      "cell_type": "markdown",
      "metadata": {
        "id": "AW24RSnGpaJu",
        "colab_type": "text"
      },
      "source": [
        "## Optimization & Training"
      ]
    },
    {
      "cell_type": "markdown",
      "metadata": {
        "id": "vPWKdv8Cpeoq",
        "colab_type": "text"
      },
      "source": [
        "- tf와 layers 패키지 불러오기"
      ]
    },
    {
      "cell_type": "code",
      "metadata": {
        "id": "ENWksVBco_JW",
        "colab_type": "code",
        "colab": {}
      },
      "source": [
        "import tensorflow as tf\n",
        "from tensorflow.keras import layers\n",
        "\n",
        "from tensorflow.keras import datasets"
      ],
      "execution_count": null,
      "outputs": []
    },
    {
      "cell_type": "code",
      "metadata": {
        "id": "OqilAtShG8IQ",
        "colab_type": "code",
        "colab": {}
      },
      "source": [
        "(train_x, train_y), (test_x, test_y) = datasets.mnist.load_data()"
      ],
      "execution_count": null,
      "outputs": []
    },
    {
      "cell_type": "markdown",
      "metadata": {
        "id": "TBPgGc5priLV",
        "colab_type": "text"
      },
      "source": [
        "- Basic CNN"
      ]
    },
    {
      "cell_type": "code",
      "metadata": {
        "id": "ibmTOaMwpmWT",
        "colab_type": "code",
        "colab": {}
      },
      "source": [
        "inputs = layers.Input((28, 28, 1))\n",
        "net = layers.Conv2D(32, (3, 3), padding='SAME')(inputs)\n",
        "net = layers.Activation('relu')(net)\n",
        "net = layers.Conv2D(32, (3, 3), padding='SAME')(net)\n",
        "net = layers.Activation('relu')(net)\n",
        "net = layers.MaxPooling2D(pool_size=(2, 2))(net)\n",
        "net = layers.Dropout(0.25)(net)\n",
        "\n",
        "net = layers.Conv2D(64, (3, 3), padding='SAME')(net)\n",
        "net = layers.Activation('relu')(net)\n",
        "net = layers.Conv2D(64, (3, 3), padding='SAME')(net)\n",
        "net = layers.Activation('relu')(net)\n",
        "net = layers.MaxPooling2D(pool_size=(2, 2))(net)\n",
        "net = layers.Dropout(0.25)(net)\n",
        "\n",
        "net = layers.Flatten()(net)\n",
        "net = layers.Dense(512)(net)\n",
        "net = layers.Activation('relu')(net)\n",
        "net = layers.Dropout(0.5)(net)\n",
        "net = layers.Dense(10)(net)  # num_classes\n",
        "net = layers.Activation('softmax')(net)\n",
        "\n",
        "model = tf.keras.Model(inputs=inputs, outputs=net, name='Basic_CNN')"
      ],
      "execution_count": 3,
      "outputs": []
    },
    {
      "cell_type": "markdown",
      "metadata": {
        "id": "W2zqSV_CqYV2",
        "colab_type": "text"
      },
      "source": [
        "### Optimization\n",
        "- Loss Function\n",
        "- Optimization\n",
        "- Metrics"
      ]
    },
    {
      "cell_type": "markdown",
      "metadata": {
        "id": "ksrpBNfPqc83",
        "colab_type": "text"
      },
      "source": [
        "### Loss Function\n",
        "\n",
        "#### 이진분류 : Binary   다중분류 : Categorical"
      ]
    },
    {
      "cell_type": "code",
      "metadata": {
        "id": "Ranh-TRWqNvw",
        "colab_type": "code",
        "colab": {}
      },
      "source": [
        "loss = 'binary_crossentropy'\n",
        "loss = 'categorical_crossentropy'"
      ],
      "execution_count": 4,
      "outputs": []
    },
    {
      "cell_type": "code",
      "metadata": {
        "id": "NcdhW2jEq8XW",
        "colab_type": "code",
        "colab": {
          "base_uri": "https://localhost:8080/",
          "height": 34
        },
        "outputId": "00555c22-1d8e-4be8-ded9-2af4c4370b5c"
      },
      "source": [
        "tf.keras.losses.binary_crossentropy"
      ],
      "execution_count": 5,
      "outputs": [
        {
          "output_type": "execute_result",
          "data": {
            "text/plain": [
              "<function tensorflow.python.keras.losses.binary_crossentropy>"
            ]
          },
          "metadata": {
            "tags": []
          },
          "execution_count": 5
        }
      ]
    },
    {
      "cell_type": "code",
      "metadata": {
        "id": "t5bNOnMQq-7r",
        "colab_type": "code",
        "colab": {
          "base_uri": "https://localhost:8080/",
          "height": 34
        },
        "outputId": "db5a128c-d79d-45ed-cc17-65c653d5aa2c"
      },
      "source": [
        "tf.keras.losses.categorical_crossentropy"
      ],
      "execution_count": 6,
      "outputs": [
        {
          "output_type": "execute_result",
          "data": {
            "text/plain": [
              "<function tensorflow.python.keras.losses.categorical_crossentropy>"
            ]
          },
          "metadata": {
            "tags": []
          },
          "execution_count": 6
        }
      ]
    },
    {
      "cell_type": "code",
      "metadata": {
        "id": "1OmBNoP-HGxw",
        "colab_type": "code",
        "colab": {}
      },
      "source": [
        "loss_fun = tf.keras.losses.sparse_categorical_crossentropy"
      ],
      "execution_count": 7,
      "outputs": []
    },
    {
      "cell_type": "markdown",
      "metadata": {
        "id": "0543lOltqu5F",
        "colab_type": "text"
      },
      "source": [
        "#### One Hot 인코딩이 되지 않았을때 : Sparse"
      ]
    },
    {
      "cell_type": "code",
      "metadata": {
        "id": "BJlGcSlFquE1",
        "colab_type": "code",
        "colab": {
          "base_uri": "https://localhost:8080/",
          "height": 34
        },
        "outputId": "378d2191-43b3-4968-b5ff-d0214e77f1c6"
      },
      "source": [
        "tf.keras.losses.sparse_categorical_crossentropy"
      ],
      "execution_count": 8,
      "outputs": [
        {
          "output_type": "execute_result",
          "data": {
            "text/plain": [
              "<function tensorflow.python.keras.losses.sparse_categorical_crossentropy>"
            ]
          },
          "metadata": {
            "tags": []
          },
          "execution_count": 8
        }
      ]
    },
    {
      "cell_type": "code",
      "metadata": {
        "id": "hmMFDYOUsrsU",
        "colab_type": "code",
        "colab": {}
      },
      "source": [
        "sparse_loss_func = tf.keras.losses.sparse_categorical_crossentropy"
      ],
      "execution_count": 9,
      "outputs": []
    },
    {
      "cell_type": "markdown",
      "metadata": {
        "id": "Pnndui-trBUp",
        "colab_type": "text"
      },
      "source": [
        "### Metrics\n",
        "- 모델을 평가하는 방법\n",
        "- accuracy를 이름으로 넣는 방법"
      ]
    },
    {
      "cell_type": "code",
      "metadata": {
        "id": "sDlDuu_Wq3T2",
        "colab_type": "code",
        "colab": {}
      },
      "source": [
        "metrics = ['accuracy']"
      ],
      "execution_count": 10,
      "outputs": []
    },
    {
      "cell_type": "markdown",
      "metadata": {
        "id": "WkU1DWP-rTR7",
        "colab_type": "text"
      },
      "source": [
        "- tf.keras.metrics"
      ]
    },
    {
      "cell_type": "code",
      "metadata": {
        "id": "pCTSEdZdrPlv",
        "colab_type": "code",
        "colab": {
          "base_uri": "https://localhost:8080/",
          "height": 34
        },
        "outputId": "cf6e84d4-c838-4fbc-a048-63f9d8391fdc"
      },
      "source": [
        "tf.keras.metrics.Accuracy()\n",
        "tf.keras.metrics.Precision()\n",
        "tf.keras.metrics.Recall()"
      ],
      "execution_count": 11,
      "outputs": [
        {
          "output_type": "execute_result",
          "data": {
            "text/plain": [
              "<tensorflow.python.keras.metrics.Recall at 0x7f3afe4c4390>"
            ]
          },
          "metadata": {
            "tags": []
          },
          "execution_count": 11
        }
      ]
    },
    {
      "cell_type": "code",
      "metadata": {
        "id": "cUQrDYQwr3VT",
        "colab_type": "code",
        "colab": {}
      },
      "source": [
        "metrics = [tf.keras.metrics.Accuracy()]"
      ],
      "execution_count": 12,
      "outputs": []
    },
    {
      "cell_type": "markdown",
      "metadata": {
        "id": "XU_z-e4urrwH",
        "colab_type": "text"
      },
      "source": [
        "### Compile\n",
        "- optimizer 적용 : 'sgd', 'rmsprop', 'adam'\n",
        "- sgd : tf.keras.optimizers.SGD()\n",
        "- rmsprop : tf.keras.optimizers.RMSprop()\n",
        "- adam : tf.keras.optimizers.Adam()"
      ]
    },
    {
      "cell_type": "code",
      "metadata": {
        "id": "FpI4jC7Kravc",
        "colab_type": "code",
        "colab": {}
      },
      "source": [
        "optm = tf.keras.optimizers.Adam()"
      ],
      "execution_count": 13,
      "outputs": []
    },
    {
      "cell_type": "markdown",
      "metadata": {
        "id": "E_6lB1x3tNyf",
        "colab_type": "text"
      },
      "source": [
        "- optimizer = tf.keras.optimizers.Adam()\n",
        "- loss = tf.keras.losses.sparse_categorical_crossentropy\n",
        "- metrics = tf.keras.metrics.Accuracy()"
      ]
    },
    {
      "cell_type": "code",
      "metadata": {
        "id": "nv2aQOjosGL9",
        "colab_type": "code",
        "colab": {}
      },
      "source": [
        "model.compile(optimizer=optm, loss=sparse_loss_func, metrics=metrics)"
      ],
      "execution_count": 14,
      "outputs": []
    },
    {
      "cell_type": "code",
      "metadata": {
        "id": "3T3o25RYIsH_",
        "colab_type": "code",
        "colab": {}
      },
      "source": [
        "model.compile(optimizer=tf.keras.optimizers.Adam(), \n",
        "              loss='sparse_categorical_crossentropy', \n",
        "              metrics=[tf.keras.metrics.SparseCategoricalAccuracy()])"
      ],
      "execution_count": 15,
      "outputs": []
    },
    {
      "cell_type": "markdown",
      "metadata": {
        "id": "8hQ2sOlAtaIy",
        "colab_type": "text"
      },
      "source": [
        "---"
      ]
    },
    {
      "cell_type": "markdown",
      "metadata": {
        "id": "alDH8ODAtax_",
        "colab_type": "text"
      },
      "source": [
        "### Prepare Dataset"
      ]
    },
    {
      "cell_type": "code",
      "metadata": {
        "id": "JPl6JKbntCQJ",
        "colab_type": "code",
        "colab": {}
      },
      "source": [
        "mnist = datasets.mnist\n",
        "(train_x, train_y), (test_x, test_y) = mnist.load_data()"
      ],
      "execution_count": 16,
      "outputs": []
    },
    {
      "cell_type": "code",
      "metadata": {
        "id": "768XjiNGtlXb",
        "colab_type": "code",
        "colab": {
          "base_uri": "https://localhost:8080/",
          "height": 34
        },
        "outputId": "72fc33ca-47e4-4835-ee8d-42f7803e0008"
      },
      "source": [
        "train_x.shape, train_y.shape"
      ],
      "execution_count": 17,
      "outputs": [
        {
          "output_type": "execute_result",
          "data": {
            "text/plain": [
              "((60000, 28, 28), (60000,))"
            ]
          },
          "metadata": {
            "tags": []
          },
          "execution_count": 17
        }
      ]
    },
    {
      "cell_type": "code",
      "metadata": {
        "id": "tfR__tGSHWC8",
        "colab_type": "code",
        "colab": {
          "base_uri": "https://localhost:8080/",
          "height": 34
        },
        "outputId": "aefa5869-0311-4480-c620-2cb400436043"
      },
      "source": [
        "test_x.shape, test_y.shape"
      ],
      "execution_count": 18,
      "outputs": [
        {
          "output_type": "execute_result",
          "data": {
            "text/plain": [
              "((10000, 28, 28), (10000,))"
            ]
          },
          "metadata": {
            "tags": []
          },
          "execution_count": 18
        }
      ]
    },
    {
      "cell_type": "markdown",
      "metadata": {
        "id": "pmcaicZhttJp",
        "colab_type": "text"
      },
      "source": [
        "입력하는 데이터가 4차원이어야하는데 현재는 train_x의 차원이 3차원 임을 확인해 볼 수 있음"
      ]
    },
    {
      "cell_type": "markdown",
      "metadata": {
        "id": "lI21Xcgct1Ge",
        "colab_type": "text"
      },
      "source": [
        "차원 수 늘리기"
      ]
    },
    {
      "cell_type": "code",
      "metadata": {
        "id": "vDqVIa8Ftn6A",
        "colab_type": "code",
        "colab": {}
      },
      "source": [
        "import numpy as np"
      ],
      "execution_count": 19,
      "outputs": []
    },
    {
      "cell_type": "markdown",
      "metadata": {
        "id": "JyO1f6Nft5tm",
        "colab_type": "text"
      },
      "source": [
        "- np.expand_dims( ) 활용"
      ]
    },
    {
      "cell_type": "code",
      "metadata": {
        "id": "zeKO9z7Qt25d",
        "colab_type": "code",
        "colab": {
          "base_uri": "https://localhost:8080/",
          "height": 34
        },
        "outputId": "8d0ec447-310b-4e4c-9eda-4bf88c36fbeb"
      },
      "source": [
        "np.expand_dims(train_x, -1).shape"
      ],
      "execution_count": 20,
      "outputs": [
        {
          "output_type": "execute_result",
          "data": {
            "text/plain": [
              "(60000, 28, 28, 1)"
            ]
          },
          "metadata": {
            "tags": []
          },
          "execution_count": 20
        }
      ]
    },
    {
      "cell_type": "markdown",
      "metadata": {
        "id": "7yX2NsiQuBJn",
        "colab_type": "text"
      },
      "source": [
        "- tf.expand_dims( ) 활용"
      ]
    },
    {
      "cell_type": "code",
      "metadata": {
        "id": "JrGVahant5C2",
        "colab_type": "code",
        "colab": {
          "base_uri": "https://localhost:8080/",
          "height": 34
        },
        "outputId": "8d126383-7c0b-4c32-9f70-ee316433e547"
      },
      "source": [
        "tf.expand_dims(train_x, -1).shape"
      ],
      "execution_count": 21,
      "outputs": [
        {
          "output_type": "execute_result",
          "data": {
            "text/plain": [
              "TensorShape([60000, 28, 28, 1])"
            ]
          },
          "metadata": {
            "tags": []
          },
          "execution_count": 21
        }
      ]
    },
    {
      "cell_type": "markdown",
      "metadata": {
        "id": "n0EJtc-duG7L",
        "colab_type": "text"
      },
      "source": [
        "- tf.newaxis 활용"
      ]
    },
    {
      "cell_type": "code",
      "metadata": {
        "id": "U4OL2hasuGKU",
        "colab_type": "code",
        "colab": {}
      },
      "source": [
        "train_x = train_x[..., tf.newaxis]\n",
        "test_x = test_x[..., tf.newaxis]"
      ],
      "execution_count": 22,
      "outputs": []
    },
    {
      "cell_type": "markdown",
      "metadata": {
        "id": "V1Uj3Ca1uVAF",
        "colab_type": "text"
      },
      "source": [
        "기존 (60000, 28, 28) -> (60000, 28, 28, 1) 로 변경된 것을 확인할 수 있음"
      ]
    },
    {
      "cell_type": "code",
      "metadata": {
        "id": "8IeKNEwOuR19",
        "colab_type": "code",
        "colab": {
          "base_uri": "https://localhost:8080/",
          "height": 34
        },
        "outputId": "e8165d50-824a-4f15-8dfd-8e76cda2ad0e"
      },
      "source": [
        "train_x.shape"
      ],
      "execution_count": 23,
      "outputs": [
        {
          "output_type": "execute_result",
          "data": {
            "text/plain": [
              "(60000, 28, 28, 1)"
            ]
          },
          "metadata": {
            "tags": []
          },
          "execution_count": 23
        }
      ]
    },
    {
      "cell_type": "markdown",
      "metadata": {
        "id": "VJdYoP9Uulks",
        "colab_type": "text"
      },
      "source": [
        "### Rescaling"
      ]
    },
    {
      "cell_type": "code",
      "metadata": {
        "id": "jnr7CaUCuTO_",
        "colab_type": "code",
        "colab": {
          "base_uri": "https://localhost:8080/",
          "height": 34
        },
        "outputId": "53bdfd8a-90cd-40fa-82d1-2dddb342c764"
      },
      "source": [
        "np.min(train_x), np.max(train_x)"
      ],
      "execution_count": 24,
      "outputs": [
        {
          "output_type": "execute_result",
          "data": {
            "text/plain": [
              "(0, 255)"
            ]
          },
          "metadata": {
            "tags": []
          },
          "execution_count": 24
        }
      ]
    },
    {
      "cell_type": "markdown",
      "metadata": {
        "id": "5NA8OTXtus6L",
        "colab_type": "text"
      },
      "source": [
        "최저의 값이 0, 최대의 값이 255이므로 모든 데이터를 0과 1 사이의 데이터로 바꾸기위해 255로 나누어줌"
      ]
    },
    {
      "cell_type": "code",
      "metadata": {
        "id": "YZQjJZIcusd_",
        "colab_type": "code",
        "colab": {}
      },
      "source": [
        "train_x = train_x / 255.\n",
        "test_x = test_x / 255."
      ],
      "execution_count": 25,
      "outputs": []
    },
    {
      "cell_type": "code",
      "metadata": {
        "id": "HDjyX-WHu5mO",
        "colab_type": "code",
        "colab": {
          "base_uri": "https://localhost:8080/",
          "height": 34
        },
        "outputId": "a50b401a-e24e-4242-b8e0-82c5227a3a3d"
      },
      "source": [
        "np.min(train_x), np.max(train_x)"
      ],
      "execution_count": 26,
      "outputs": [
        {
          "output_type": "execute_result",
          "data": {
            "text/plain": [
              "(0.0, 1.0)"
            ]
          },
          "metadata": {
            "tags": []
          },
          "execution_count": 26
        }
      ]
    },
    {
      "cell_type": "markdown",
      "metadata": {
        "id": "TcEe7xEyvKIX",
        "colab_type": "text"
      },
      "source": [
        "---"
      ]
    },
    {
      "cell_type": "markdown",
      "metadata": {
        "id": "rZLQY8utV3tc",
        "colab_type": "text"
      },
      "source": [
        "### tf.data 사용"
      ]
    },
    {
      "cell_type": "code",
      "metadata": {
        "id": "WY7lTQppV5TG",
        "colab_type": "code",
        "colab": {}
      },
      "source": [
        "train_ds = tf.data.Dataset.from_tensor_slices((train_x, train_y))"
      ],
      "execution_count": 27,
      "outputs": []
    },
    {
      "cell_type": "code",
      "metadata": {
        "id": "LYZr9wRaWEh1",
        "colab_type": "code",
        "colab": {}
      },
      "source": [
        "train_ds = train_ds.shuffle(1000) # 1000은 버퍼 사이즈\n",
        "train_ds = train_ds.batch(32) # iteration 할 때 마다 설정한 batch_size만큼씩 나옴"
      ],
      "execution_count": 28,
      "outputs": []
    },
    {
      "cell_type": "code",
      "metadata": {
        "id": "UQBolKYBWjkW",
        "colab_type": "code",
        "colab": {}
      },
      "source": [
        "test_ds = tf.data.Dataset.from_tensor_slices((test_x, test_y))\n",
        "test_ds = test_ds.batch(32)"
      ],
      "execution_count": 30,
      "outputs": []
    },
    {
      "cell_type": "markdown",
      "metadata": {
        "id": "BIvQlJW8Wtcj",
        "colab_type": "text"
      },
      "source": [
        "### 시각화 해보기"
      ]
    },
    {
      "cell_type": "markdown",
      "metadata": {
        "id": "yQ7YuVEQWvi_",
        "colab_type": "text"
      },
      "source": [
        "- matplotlib을 불러와서 데이터 시각화 하기"
      ]
    },
    {
      "cell_type": "code",
      "metadata": {
        "id": "RHxLUARWWqlD",
        "colab_type": "code",
        "colab": {}
      },
      "source": [
        "import matplotlib.pyplot as plt"
      ],
      "execution_count": 31,
      "outputs": []
    },
    {
      "cell_type": "markdown",
      "metadata": {
        "id": "oEKb3hjPW0kA",
        "colab_type": "text"
      },
      "source": [
        "- train_ds.take( n ) : 몇(n) 개의 step 만큼 가져올 것인지 설정\n",
        "\n",
        "- 설정해주지 않으면 데이터의 끝까지 무한정으로 가져옴"
      ]
    },
    {
      "cell_type": "markdown",
      "metadata": {
        "id": "Rtv6zarTXTd0",
        "colab_type": "text"
      },
      "source": [
        "- 전체 데이터 셋에서 2개만 가져옴"
      ]
    },
    {
      "cell_type": "code",
      "metadata": {
        "id": "mJ-6qVbTWzvz",
        "colab_type": "code",
        "colab": {
          "base_uri": "https://localhost:8080/",
          "height": 545
        },
        "outputId": "0f6b4e87-0898-4cb8-b684-023eb36f097b"
      },
      "source": [
        "for image, label in train_ds.take(2):\n",
        "    # print(label[0], type(label[0]))\n",
        "    plt.title(str(label[0]))\n",
        "    # plt.title(label[0])\n",
        "    plt.imshow(image[0, :, :, 0], 'gray')\n",
        "    plt.show()"
      ],
      "execution_count": 42,
      "outputs": [
        {
          "output_type": "display_data",
          "data": {
            "image/png": "[encoded data removed]",
            "text/plain": [
              "<Figure size 432x288 with 1 Axes>"
            ]
          },
          "metadata": {
            "tags": [],
            "needs_background": "light"
          }
        },
        {
          "output_type": "display_data",
          "data": {
            "image/png": "[encoded data removed]",
            "text/plain": [
              "<Figure size 432x288 with 1 Axes>"
            ]
          },
          "metadata": {
            "tags": [],
            "needs_background": "light"
          }
        }
      ]
    },
    {
      "cell_type": "markdown",
      "metadata": {
        "id": "lrLZC1hwZN8I",
        "colab_type": "text"
      },
      "source": [
        "- 하나만 가져오고 싶은 경우"
      ]
    },
    {
      "cell_type": "markdown",
      "metadata": {
        "id": "zsVqpWqiZYgv",
        "colab_type": "text"
      },
      "source": [
        "[ 32, 28, 28, 1 ] -> [ Batch_size=32, image_size=(28, 28), tf.newaxis로 늘린 차원 =1]"
      ]
    },
    {
      "cell_type": "code",
      "metadata": {
        "id": "sLy53I59XVsP",
        "colab_type": "code",
        "colab": {
          "base_uri": "https://localhost:8080/",
          "height": 34
        },
        "outputId": "1e7f2acd-927d-41d6-8550-57d4ae1e0aa3"
      },
      "source": [
        "image, label = next(iter(train_ds))\n",
        "image.shape, label.shape"
      ],
      "execution_count": 43,
      "outputs": [
        {
          "output_type": "execute_result",
          "data": {
            "text/plain": [
              "(TensorShape([32, 28, 28, 1]), TensorShape([32]))"
            ]
          },
          "metadata": {
            "tags": []
          },
          "execution_count": 43
        }
      ]
    },
    {
      "cell_type": "markdown",
      "metadata": {
        "id": "ntLf7m8YZvTa",
        "colab_type": "text"
      },
      "source": [
        "### Training (Keras)"
      ]
    },
    {
      "cell_type": "markdown",
      "metadata": {
        "id": "qaR8Ll68Z3nu",
        "colab_type": "text"
      },
      "source": [
        "- Keras를 활용하여 학습할 때는 기존과 같지만 train_ds는 generator라서 그대로 넣을 수 있음"
      ]
    },
    {
      "cell_type": "code",
      "metadata": {
        "id": "EKO8AXBzZVg3",
        "colab_type": "code",
        "colab": {}
      },
      "source": [
        "model.compile(optimizer=tf.keras.optimizers.Adam(), \n",
        "              loss='sparse_categorical_crossentropy', \n",
        "              metrics=[tf.keras.metrics.SparseCategoricalAccuracy()])"
      ],
      "execution_count": 44,
      "outputs": []
    },
    {
      "cell_type": "markdown",
      "metadata": {
        "id": "fk8mwhKdaI1_",
        "colab_type": "text"
      },
      "source": [
        "model.fit(train_x, train_y, batch_size=32, epochs=10)\n",
        "-> model.fit(train_ds, epochs=10)"
      ]
    },
    {
      "cell_type": "code",
      "metadata": {
        "id": "l4QcV2JqaEso",
        "colab_type": "code",
        "colab": {
          "base_uri": "https://localhost:8080/",
          "height": 394
        },
        "outputId": "4757c043-28fb-4f48-98c0-cbe60fb75b13"
      },
      "source": [
        "model.fit(train_ds, epochs=10)"
      ],
      "execution_count": 45,
      "outputs": [
        {
          "output_type": "stream",
          "text": [
            "Epoch 1/10\n",
            "1875/1875 [==============================] - 16s 9ms/step - loss: 0.1471 - sparse_categorical_accuracy: 0.9538\n",
            "Epoch 2/10\n",
            "1875/1875 [==============================] - 16s 9ms/step - loss: 0.0585 - sparse_categorical_accuracy: 0.9823\n",
            "Epoch 3/10\n",
            "1875/1875 [==============================] - 16s 9ms/step - loss: 0.0444 - sparse_categorical_accuracy: 0.9866\n",
            "Epoch 4/10\n",
            "1875/1875 [==============================] - 16s 9ms/step - loss: 0.0370 - sparse_categorical_accuracy: 0.9888\n",
            "Epoch 5/10\n",
            "1875/1875 [==============================] - 16s 9ms/step - loss: 0.0332 - sparse_categorical_accuracy: 0.9898\n",
            "Epoch 6/10\n",
            "1875/1875 [==============================] - 17s 9ms/step - loss: 0.0300 - sparse_categorical_accuracy: 0.9905\n",
            "Epoch 7/10\n",
            "1875/1875 [==============================] - 16s 9ms/step - loss: 0.0261 - sparse_categorical_accuracy: 0.9917\n",
            "Epoch 8/10\n",
            "1875/1875 [==============================] - 16s 9ms/step - loss: 0.0242 - sparse_categorical_accuracy: 0.9932\n",
            "Epoch 9/10\n",
            "1875/1875 [==============================] - 16s 9ms/step - loss: 0.0224 - sparse_categorical_accuracy: 0.9933\n",
            "Epoch 10/10\n",
            "1875/1875 [==============================] - 17s 9ms/step - loss: 0.0209 - sparse_categorical_accuracy: 0.9934\n"
          ],
          "name": "stdout"
        },
        {
          "output_type": "execute_result",
          "data": {
            "text/plain": [
              "<tensorflow.python.keras.callbacks.History at 0x7f3aa5135d68>"
            ]
          },
          "metadata": {
            "tags": []
          },
          "execution_count": 45
        }
      ]
    },
    {
      "cell_type": "markdown",
      "metadata": {
        "id": "kIk5OlSBaUrZ",
        "colab_type": "text"
      },
      "source": [
        "### Optimization\n",
        "- Loss Function\n",
        "- Optimizer"
      ]
    },
    {
      "cell_type": "code",
      "metadata": {
        "id": "JeAZOrZeaR3G",
        "colab_type": "code",
        "colab": {}
      },
      "source": [
        "loss_object = tf.keras.losses.SparseCategoricalCrossentropy()\n",
        "\n",
        "optimizer = tf.keras.optimizers.Adam()"
      ],
      "execution_count": 46,
      "outputs": []
    },
    {
      "cell_type": "markdown",
      "metadata": {
        "id": "z1iqlwKVbAA2",
        "colab_type": "text"
      },
      "source": [
        "- Loss Function을 담을 곳\n",
        "- Metrics"
      ]
    },
    {
      "cell_type": "code",
      "metadata": {
        "id": "zQ47wzedafzQ",
        "colab_type": "code",
        "colab": {}
      },
      "source": [
        "train_loss = tf.keras.metrics.Mean(name='train_loss')\n",
        "train_accuracy = tf.keras.metrics.SparseCategoricalAccuracy(name='train_accuracy')\n",
        "\n",
        "test_loss = tf.keras.metrics.Mean(name='test_loss')\n",
        "test_accuracy = tf.keras.metrics.SparseCategoricalAccuracy(name='test_accuracy')"
      ],
      "execution_count": 47,
      "outputs": []
    },
    {
      "cell_type": "markdown",
      "metadata": {
        "id": "nZ_LlJvJbizt",
        "colab_type": "text"
      },
      "source": [
        "### Trainig"
      ]
    },
    {
      "cell_type": "markdown",
      "metadata": {
        "id": "uxMU6JzpbmP6",
        "colab_type": "text"
      },
      "source": [
        "- @tf.fucntion = 기존 session 열었던 것처럼 바로 작동하지 않고 그래프만 만들고 학습이 시작되면 돌아가도록 함\n",
        "\n",
        "- tf.GradientTape()"
      ]
    },
    {
      "cell_type": "code",
      "metadata": {
        "id": "B4RIf_3YbThe",
        "colab_type": "code",
        "colab": {}
      },
      "source": [
        "@tf.function\n",
        "def train_step(images, labels):\n",
        "    with tf.GradientTape() as tape:\n",
        "        predictions = model(images) # 예측 \n",
        "        loss = loss_object(labels, predictions) # loss를 구하고\n",
        "    gradients = tape.gradient(loss, model.trainable_variables) # 기울기를 얻고\n",
        "    optimizer.apply_gradients(zip(gradients, model.trainable_variables)) # optimizer를 통해 model에 업데이트\n",
        "\n",
        "    train_loss(loss) # loss는 잘 떨어지고 있는지\n",
        "    train_accuracy(labels, predictions) # 정확도는 어떻게 되고 있는지 확인"
      ],
      "execution_count": 53,
      "outputs": []
    },
    {
      "cell_type": "code",
      "metadata": {
        "id": "gnG3YBLDdCjG",
        "colab_type": "code",
        "colab": {}
      },
      "source": [
        "@tf.function\n",
        "def test_step(images, labels):\n",
        "    predictions = model(images)\n",
        "    t_loss = loss_object(labels, predictions)\n",
        "\n",
        "    test_loss(t_loss)\n",
        "    test_accuracy(labels, predictions)"
      ],
      "execution_count": 54,
      "outputs": []
    },
    {
      "cell_type": "markdown",
      "metadata": {
        "id": "gQR6_UN1eIOC",
        "colab_type": "text"
      },
      "source": [
        "- 한 epoch마다 학습, 테스트 반복되도록 함"
      ]
    },
    {
      "cell_type": "code",
      "metadata": {
        "id": "gnwUTgzTdRlB",
        "colab_type": "code",
        "colab": {
          "base_uri": "https://localhost:8080/",
          "height": 71
        },
        "outputId": "bf36477b-3e27-4e85-e483-aa64bf58c1ba"
      },
      "source": [
        "for epoch in range(2): # 두 번의 epoch\n",
        "    # 학습\n",
        "    for images, labels in train_ds: # train_ds에서 iteration하게 데이터 생성\n",
        "        train_step(images, labels)\n",
        "\n",
        "    # 테스트\n",
        "    for test_images, test_labels in test_ds:\n",
        "        test_step(test_images, test_labels)\n",
        "\n",
        "    template = \"Epoch {}, Loss : {}, Accuracy : {}, Test Loss : {}, Test Accuracy : {}\"\n",
        "\n",
        "    print(template.format(epoch+1, \n",
        "                          train_loss.result(), \n",
        "                          train_accuracy.result()*100, \n",
        "                          test_loss.result(), \n",
        "                          test_accuracy.result() * 100))"
      ],
      "execution_count": 56,
      "outputs": [
        {
          "output_type": "stream",
          "text": [
            "Epoch 1, Loss : 0.009921038523316383, Accuracy : 99.71666717529297, Test Loss : 0.03110472857952118, Test Accuracy : 99.16999816894531\n",
            "Epoch 2, Loss : 0.009329255670309067, Accuracy : 99.72721862792969, Test Loss : 0.0433468259871006, Test Accuracy : 99.06999969482422\n"
          ],
          "name": "stdout"
        }
      ]
    }
  ]
}