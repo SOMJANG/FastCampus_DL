{
  "nbformat": 4,
  "nbformat_minor": 0,
  "metadata": {
    "colab": {
      "name": "DAY06_Build Basic CNN with TensorFlow 2.0.ipynb",
      "provenance": [],
      "collapsed_sections": []
    },
    "kernelspec": {
      "name": "python3",
      "display_name": "Python 3"
    }
  },
  "cells": [
    {
      "cell_type": "markdown",
      "metadata": {
        "id": "7mIgzA1nvb8X",
        "colab_type": "text"
      },
      "source": [
        "## CNN Model"
      ]
    },
    {
      "cell_type": "code",
      "metadata": {
        "id": "_U0gzULQvU27",
        "colab_type": "code",
        "colab": {}
      },
      "source": [
        "import tensorflow as tf"
      ],
      "execution_count": 4,
      "outputs": []
    },
    {
      "cell_type": "markdown",
      "metadata": {
        "id": "hZuPMYvBCWd8",
        "colab_type": "text"
      },
      "source": [
        "### input shape 설정"
      ]
    },
    {
      "cell_type": "code",
      "metadata": {
        "id": "SlSum2sHv5Pq",
        "colab_type": "code",
        "colab": {}
      },
      "source": [
        "input_shape = ( 28, 28, 1 )\n",
        "num_classes = 10"
      ],
      "execution_count": 6,
      "outputs": []
    },
    {
      "cell_type": "markdown",
      "metadata": {
        "id": "YBF8JFdHCaVc",
        "colab_type": "text"
      },
      "source": [
        "### CNN은 Feature Extraction 부분과 Fully Connected 부분으로 나뉨"
      ]
    },
    {
      "cell_type": "code",
      "metadata": {
        "id": "mg7elj9A96vy",
        "colab_type": "code",
        "colab": {}
      },
      "source": [
        "inputs = tf.keras.layers.Input(shape=input_shape)\n",
        "\n",
        "# Feature Extraction\n",
        "net = tf.keras.layers.Conv2D(32, 3, padding=\"SAME\")(inputs)\n",
        "net = tf.keras.layers.Activation(\"relu\")(net)\n",
        "net = tf.keras.layers.Conv2D(32, 3, padding=\"SAME\")(net)\n",
        "net = tf.keras.layers.Activation(\"relu\")(net)\n",
        "net = tf.keras.layers.MaxPool2D(2, 2)(net)\n",
        "net = tf.keras.layers.Dropout(0.25)(net)\n",
        "\n",
        "net = tf.keras.layers.Conv2D(64, 3, padding=\"SAME\")(net)\n",
        "net = tf.keras.layers.Activation(\"relu\")(net)\n",
        "net = tf.keras.layers.Conv2D(64, 3, padding=\"SAME\")(net)\n",
        "net = tf.keras.layers.Activation(\"relu\")(net)\n",
        "net = tf.keras.layers.MaxPool2D(2, 2)(net)\n",
        "net = tf.keras.layers.Dropout(0.25)(net)\n",
        "\n",
        "# Fully Connected\n",
        "net = tf.keras.layers.Flatten()(net)\n",
        "net = tf.keras.layers.Dense(512)(net)\n",
        "net = tf.keras.layers.Activation('relu')(net)\n",
        "net = tf.keras.layers.Dropout(0.25)(net)\n",
        "net = tf.keras.layers.Dense(10)(net)\n",
        "net = tf.keras.layers.Activation('softmax')(net)\n",
        "\n",
        "model = tf.keras.Model(inputs=inputs, outputs=net, name=\"Basic_CNN\")"
      ],
      "execution_count": 10,
      "outputs": []
    },
    {
      "cell_type": "code",
      "metadata": {
        "id": "dOyWUPnkBOSx",
        "colab_type": "code",
        "colab": {
          "base_uri": "https://localhost:8080/",
          "height": 34
        },
        "outputId": "edcc202e-8609-4101-9804-7d3ec8449897"
      },
      "source": [
        "model"
      ],
      "execution_count": 11,
      "outputs": [
        {
          "output_type": "execute_result",
          "data": {
            "text/plain": [
              "<tensorflow.python.keras.engine.training.Model at 0x7fd24c8aecc0>"
            ]
          },
          "metadata": {
            "tags": []
          },
          "execution_count": 11
        }
      ]
    },
    {
      "cell_type": "markdown",
      "metadata": {
        "id": "H3FungICCR1M",
        "colab_type": "text"
      },
      "source": [
        "### model.summary() 를 통해 모델의 대략적인 모습 파악"
      ]
    },
    {
      "cell_type": "code",
      "metadata": {
        "id": "MOY-H57eBbtA",
        "colab_type": "code",
        "colab": {
          "base_uri": "https://localhost:8080/",
          "height": 799
        },
        "outputId": "9e569870-c3c6-41b1-d07a-4fb4ea322db2"
      },
      "source": [
        "model.summary()"
      ],
      "execution_count": 12,
      "outputs": [
        {
          "output_type": "stream",
          "text": [
            "Model: \"Basic_CNN\"\n",
            "_________________________________________________________________\n",
            "Layer (type)                 Output Shape              Param #   \n",
            "=================================================================\n",
            "input_1 (InputLayer)         [(None, 28, 28, 1)]       0         \n",
            "_________________________________________________________________\n",
            "conv2d (Conv2D)              (None, 28, 28, 32)        320       \n",
            "_________________________________________________________________\n",
            "activation (Activation)      (None, 28, 28, 32)        0         \n",
            "_________________________________________________________________\n",
            "conv2d_1 (Conv2D)            (None, 28, 28, 32)        9248      \n",
            "_________________________________________________________________\n",
            "activation_1 (Activation)    (None, 28, 28, 32)        0         \n",
            "_________________________________________________________________\n",
            "max_pooling2d (MaxPooling2D) (None, 14, 14, 32)        0         \n",
            "_________________________________________________________________\n",
            "dropout (Dropout)            (None, 14, 14, 32)        0         \n",
            "_________________________________________________________________\n",
            "conv2d_2 (Conv2D)            (None, 14, 14, 64)        18496     \n",
            "_________________________________________________________________\n",
            "activation_2 (Activation)    (None, 14, 14, 64)        0         \n",
            "_________________________________________________________________\n",
            "conv2d_3 (Conv2D)            (None, 14, 14, 64)        36928     \n",
            "_________________________________________________________________\n",
            "activation_3 (Activation)    (None, 14, 14, 64)        0         \n",
            "_________________________________________________________________\n",
            "max_pooling2d_1 (MaxPooling2 (None, 7, 7, 64)          0         \n",
            "_________________________________________________________________\n",
            "dropout_1 (Dropout)          (None, 7, 7, 64)          0         \n",
            "_________________________________________________________________\n",
            "flatten (Flatten)            (None, 3136)              0         \n",
            "_________________________________________________________________\n",
            "dense (Dense)                (None, 512)               1606144   \n",
            "_________________________________________________________________\n",
            "activation_4 (Activation)    (None, 512)               0         \n",
            "_________________________________________________________________\n",
            "dropout_2 (Dropout)          (None, 512)               0         \n",
            "_________________________________________________________________\n",
            "dense_1 (Dense)              (None, 10)                5130      \n",
            "_________________________________________________________________\n",
            "activation_5 (Activation)    (None, 10)                0         \n",
            "=================================================================\n",
            "Total params: 1,676,266\n",
            "Trainable params: 1,676,266\n",
            "Non-trainable params: 0\n",
            "_________________________________________________________________\n"
          ],
          "name": "stdout"
        }
      ]
    }
  ]
}