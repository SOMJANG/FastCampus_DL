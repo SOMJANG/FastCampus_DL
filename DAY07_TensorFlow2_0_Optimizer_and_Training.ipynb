{
  "nbformat": 4,
  "nbformat_minor": 0,
  "metadata": {
    "colab": {
      "name": "DAY07_TensorFlow2.0 Optimizer and Training.ipynb",
      "provenance": [],
      "collapsed_sections": []
    },
    "kernelspec": {
      "name": "python3",
      "display_name": "Python 3"
    },
    "accelerator": "GPU"
  },
  "cells": [
    {
      "cell_type": "markdown",
      "metadata": {
        "id": "AW24RSnGpaJu",
        "colab_type": "text"
      },
      "source": [
        "## Optimization & Training"
      ]
    },
    {
      "cell_type": "markdown",
      "metadata": {
        "id": "vPWKdv8Cpeoq",
        "colab_type": "text"
      },
      "source": [
        "- tf와 layers 패키지 불러오기"
      ]
    },
    {
      "cell_type": "code",
      "metadata": {
        "id": "ENWksVBco_JW",
        "colab_type": "code",
        "colab": {}
      },
      "source": [
        "import tensorflow as tf\n",
        "from tensorflow.keras import layers\n",
        "\n",
        "from tensorflow.keras import datasets"
      ],
      "execution_count": null,
      "outputs": []
    },
    {
      "cell_type": "code",
      "metadata": {
        "id": "OqilAtShG8IQ",
        "colab_type": "code",
        "colab": {}
      },
      "source": [
        "(train_x, train_y), (test_x, test_y) = datasets.mnist.load_data()"
      ],
      "execution_count": null,
      "outputs": []
    },
    {
      "cell_type": "markdown",
      "metadata": {
        "id": "TBPgGc5priLV",
        "colab_type": "text"
      },
      "source": [
        "- Basic CNN"
      ]
    },
    {
      "cell_type": "code",
      "metadata": {
        "id": "ibmTOaMwpmWT",
        "colab_type": "code",
        "colab": {}
      },
      "source": [
        "inputs = layers.Input((28, 28, 1))\n",
        "net = layers.Conv2D(32, (3, 3), padding='SAME')(inputs)\n",
        "net = layers.Activation('relu')(net)\n",
        "net = layers.Conv2D(32, (3, 3), padding='SAME')(net)\n",
        "net = layers.Activation('relu')(net)\n",
        "net = layers.MaxPooling2D(pool_size=(2, 2))(net)\n",
        "net = layers.Dropout(0.25)(net)\n",
        "\n",
        "net = layers.Conv2D(64, (3, 3), padding='SAME')(net)\n",
        "net = layers.Activation('relu')(net)\n",
        "net = layers.Conv2D(64, (3, 3), padding='SAME')(net)\n",
        "net = layers.Activation('relu')(net)\n",
        "net = layers.MaxPooling2D(pool_size=(2, 2))(net)\n",
        "net = layers.Dropout(0.25)(net)\n",
        "\n",
        "net = layers.Flatten()(net)\n",
        "net = layers.Dense(512)(net)\n",
        "net = layers.Activation('relu')(net)\n",
        "net = layers.Dropout(0.5)(net)\n",
        "net = layers.Dense(10)(net)  # num_classes\n",
        "net = layers.Activation('softmax')(net)\n",
        "\n",
        "model = tf.keras.Model(inputs=inputs, outputs=net, name='Basic_CNN')"
      ],
      "execution_count": null,
      "outputs": []
    },
    {
      "cell_type": "markdown",
      "metadata": {
        "id": "W2zqSV_CqYV2",
        "colab_type": "text"
      },
      "source": [
        "### Optimization\n",
        "- Loss Function\n",
        "- Optimization\n",
        "- Metrics"
      ]
    },
    {
      "cell_type": "markdown",
      "metadata": {
        "id": "ksrpBNfPqc83",
        "colab_type": "text"
      },
      "source": [
        "### Loss Function\n",
        "\n",
        "#### 이진분류 : Binary   다중분류 : Categorical"
      ]
    },
    {
      "cell_type": "code",
      "metadata": {
        "id": "Ranh-TRWqNvw",
        "colab_type": "code",
        "colab": {}
      },
      "source": [
        "loss = 'binary_crossentropy'\n",
        "loss = 'categorical_crossentropy'"
      ],
      "execution_count": null,
      "outputs": []
    },
    {
      "cell_type": "code",
      "metadata": {
        "id": "NcdhW2jEq8XW",
        "colab_type": "code",
        "colab": {
          "base_uri": "https://localhost:8080/",
          "height": 34
        },
        "outputId": "9d03dee3-93ce-493f-b2f2-4701527326bb"
      },
      "source": [
        "tf.keras.losses.binary_crossentropy"
      ],
      "execution_count": null,
      "outputs": [
        {
          "output_type": "execute_result",
          "data": {
            "text/plain": [
              "<function tensorflow.python.keras.losses.binary_crossentropy>"
            ]
          },
          "metadata": {
            "tags": []
          },
          "execution_count": 27
        }
      ]
    },
    {
      "cell_type": "code",
      "metadata": {
        "id": "t5bNOnMQq-7r",
        "colab_type": "code",
        "colab": {
          "base_uri": "https://localhost:8080/",
          "height": 34
        },
        "outputId": "a3d5040f-54aa-44c4-a852-e3f11a1e3ec3"
      },
      "source": [
        "tf.keras.losses.categorical_crossentropy"
      ],
      "execution_count": null,
      "outputs": [
        {
          "output_type": "execute_result",
          "data": {
            "text/plain": [
              "<function tensorflow.python.keras.losses.categorical_crossentropy>"
            ]
          },
          "metadata": {
            "tags": []
          },
          "execution_count": 28
        }
      ]
    },
    {
      "cell_type": "code",
      "metadata": {
        "id": "1OmBNoP-HGxw",
        "colab_type": "code",
        "colab": {}
      },
      "source": [
        "loss_fun = tf.keras.losses.sparse_categorical_crossentropy"
      ],
      "execution_count": null,
      "outputs": []
    },
    {
      "cell_type": "markdown",
      "metadata": {
        "id": "0543lOltqu5F",
        "colab_type": "text"
      },
      "source": [
        "#### One Hot 인코딩이 되지 않았을때 : Sparse"
      ]
    },
    {
      "cell_type": "code",
      "metadata": {
        "id": "BJlGcSlFquE1",
        "colab_type": "code",
        "colab": {
          "base_uri": "https://localhost:8080/",
          "height": 34
        },
        "outputId": "59844f69-c552-4df4-9348-64b6fd1be248"
      },
      "source": [
        "tf.keras.losses.sparse_categorical_crossentropy"
      ],
      "execution_count": null,
      "outputs": [
        {
          "output_type": "execute_result",
          "data": {
            "text/plain": [
              "<function tensorflow.python.keras.losses.sparse_categorical_crossentropy>"
            ]
          },
          "metadata": {
            "tags": []
          },
          "execution_count": 29
        }
      ]
    },
    {
      "cell_type": "code",
      "metadata": {
        "id": "hmMFDYOUsrsU",
        "colab_type": "code",
        "colab": {}
      },
      "source": [
        "sparse_loss_func = tf.keras.losses.sparse_categorical_crossentropy"
      ],
      "execution_count": null,
      "outputs": []
    },
    {
      "cell_type": "markdown",
      "metadata": {
        "id": "Pnndui-trBUp",
        "colab_type": "text"
      },
      "source": [
        "### Metrics\n",
        "- 모델을 평가하는 방법\n",
        "- accuracy를 이름으로 넣는 방법"
      ]
    },
    {
      "cell_type": "code",
      "metadata": {
        "id": "sDlDuu_Wq3T2",
        "colab_type": "code",
        "colab": {}
      },
      "source": [
        "metrics = ['accuracy']"
      ],
      "execution_count": null,
      "outputs": []
    },
    {
      "cell_type": "markdown",
      "metadata": {
        "id": "WkU1DWP-rTR7",
        "colab_type": "text"
      },
      "source": [
        "- tf.keras.metrics"
      ]
    },
    {
      "cell_type": "code",
      "metadata": {
        "id": "pCTSEdZdrPlv",
        "colab_type": "code",
        "colab": {
          "base_uri": "https://localhost:8080/",
          "height": 34
        },
        "outputId": "80ce9f84-44bf-4920-9654-d130aa70188a"
      },
      "source": [
        "tf.keras.metrics.Accuracy()\n",
        "tf.keras.metrics.Precision()\n",
        "tf.keras.metrics.Recall()"
      ],
      "execution_count": null,
      "outputs": [
        {
          "output_type": "execute_result",
          "data": {
            "text/plain": [
              "<tensorflow.python.keras.metrics.Recall at 0x7f3327bf29b0>"
            ]
          },
          "metadata": {
            "tags": []
          },
          "execution_count": 32
        }
      ]
    },
    {
      "cell_type": "code",
      "metadata": {
        "id": "cUQrDYQwr3VT",
        "colab_type": "code",
        "colab": {}
      },
      "source": [
        "metrics = [tf.keras.metrics.Accuracy()]"
      ],
      "execution_count": null,
      "outputs": []
    },
    {
      "cell_type": "markdown",
      "metadata": {
        "id": "XU_z-e4urrwH",
        "colab_type": "text"
      },
      "source": [
        "### Compile\n",
        "- optimizer 적용 : 'sgd', 'rmsprop', 'adam'\n",
        "- sgd : tf.keras.optimizers.SGD()\n",
        "- rmsprop : tf.keras.optimizers.RMSprop()\n",
        "- adam : tf.keras.optimizers.Adam()"
      ]
    },
    {
      "cell_type": "code",
      "metadata": {
        "id": "FpI4jC7Kravc",
        "colab_type": "code",
        "colab": {}
      },
      "source": [
        "optm = tf.keras.optimizers.Adam()"
      ],
      "execution_count": null,
      "outputs": []
    },
    {
      "cell_type": "markdown",
      "metadata": {
        "id": "E_6lB1x3tNyf",
        "colab_type": "text"
      },
      "source": [
        "- optimizer = tf.keras.optimizers.Adam()\n",
        "- loss = tf.keras.losses.sparse_categorical_crossentropy\n",
        "- metrics = tf.keras.metrics.Accuracy()"
      ]
    },
    {
      "cell_type": "code",
      "metadata": {
        "id": "nv2aQOjosGL9",
        "colab_type": "code",
        "colab": {}
      },
      "source": [
        "model.compile(optimizer=optm, loss=sparse_loss_func, metrics=metrics)"
      ],
      "execution_count": null,
      "outputs": []
    },
    {
      "cell_type": "code",
      "metadata": {
        "id": "ENYzJg9yHQCE",
        "colab_type": "code",
        "colab": {}
      },
      "source": [
        "model.compile(optimizer=tf.keras.optimizers.Adam(), \n",
        "              loss='sparse_categorical_crossentropy', \n",
        "              metrics=[tf.keras.metrics.Accuracy()])"
      ],
      "execution_count": null,
      "outputs": []
    },
    {
      "cell_type": "code",
      "metadata": {
        "id": "3T3o25RYIsH_",
        "colab_type": "code",
        "colab": {}
      },
      "source": [
        "model.compile(optimizer=tf.keras.optimizers.Adam(), \n",
        "              loss='sparse_categorical_crossentropy', \n",
        "              metrics=[tf.keras.metrics.SparseCategoricalAccuracy()])"
      ],
      "execution_count": 61,
      "outputs": []
    },
    {
      "cell_type": "markdown",
      "metadata": {
        "id": "8hQ2sOlAtaIy",
        "colab_type": "text"
      },
      "source": [
        "---"
      ]
    },
    {
      "cell_type": "markdown",
      "metadata": {
        "id": "alDH8ODAtax_",
        "colab_type": "text"
      },
      "source": [
        "### Prepare Dataset"
      ]
    },
    {
      "cell_type": "code",
      "metadata": {
        "id": "JPl6JKbntCQJ",
        "colab_type": "code",
        "colab": {}
      },
      "source": [
        "mnist = datasets.mnist\n",
        "(train_x, train_y), (test_x, test_y) = mnist.load_data()"
      ],
      "execution_count": null,
      "outputs": []
    },
    {
      "cell_type": "code",
      "metadata": {
        "id": "768XjiNGtlXb",
        "colab_type": "code",
        "colab": {
          "base_uri": "https://localhost:8080/",
          "height": 34
        },
        "outputId": "db846e4f-0a4f-42bd-cbde-27066a3641c3"
      },
      "source": [
        "train_x.shape, train_y.shape"
      ],
      "execution_count": null,
      "outputs": [
        {
          "output_type": "execute_result",
          "data": {
            "text/plain": [
              "((60000, 28, 28), (60000,))"
            ]
          },
          "metadata": {
            "tags": []
          },
          "execution_count": 56
        }
      ]
    },
    {
      "cell_type": "code",
      "metadata": {
        "id": "tfR__tGSHWC8",
        "colab_type": "code",
        "colab": {
          "base_uri": "https://localhost:8080/",
          "height": 34
        },
        "outputId": "b2f91b89-e618-48a9-bcda-5f187bcf7a32"
      },
      "source": [
        "test_x.shape, test_y.shape"
      ],
      "execution_count": null,
      "outputs": [
        {
          "output_type": "execute_result",
          "data": {
            "text/plain": [
              "((10000, 28, 28), (10000,))"
            ]
          },
          "metadata": {
            "tags": []
          },
          "execution_count": 57
        }
      ]
    },
    {
      "cell_type": "markdown",
      "metadata": {
        "id": "pmcaicZhttJp",
        "colab_type": "text"
      },
      "source": [
        "입력하는 데이터가 4차원이어야하는데 현재는 train_x의 차원이 3차원 임을 확인해 볼 수 있음"
      ]
    },
    {
      "cell_type": "markdown",
      "metadata": {
        "id": "lI21Xcgct1Ge",
        "colab_type": "text"
      },
      "source": [
        "차원 수 늘리기"
      ]
    },
    {
      "cell_type": "code",
      "metadata": {
        "id": "vDqVIa8Ftn6A",
        "colab_type": "code",
        "colab": {}
      },
      "source": [
        "import numpy as np"
      ],
      "execution_count": null,
      "outputs": []
    },
    {
      "cell_type": "markdown",
      "metadata": {
        "id": "JyO1f6Nft5tm",
        "colab_type": "text"
      },
      "source": [
        "- np.expand_dims( ) 활용"
      ]
    },
    {
      "cell_type": "code",
      "metadata": {
        "id": "zeKO9z7Qt25d",
        "colab_type": "code",
        "colab": {
          "base_uri": "https://localhost:8080/",
          "height": 34
        },
        "outputId": "7a41fb69-9df3-4092-af17-f6690064cd94"
      },
      "source": [
        "np.expand_dims(train_x, -1).shape"
      ],
      "execution_count": null,
      "outputs": [
        {
          "output_type": "execute_result",
          "data": {
            "text/plain": [
              "(60000, 28, 28, 1)"
            ]
          },
          "metadata": {
            "tags": []
          },
          "execution_count": 39
        }
      ]
    },
    {
      "cell_type": "markdown",
      "metadata": {
        "id": "7yX2NsiQuBJn",
        "colab_type": "text"
      },
      "source": [
        "- tf.expand_dims( ) 활용"
      ]
    },
    {
      "cell_type": "code",
      "metadata": {
        "id": "JrGVahant5C2",
        "colab_type": "code",
        "colab": {
          "base_uri": "https://localhost:8080/",
          "height": 34
        },
        "outputId": "e87727e5-b311-48c9-f577-f232cc436721"
      },
      "source": [
        "tf.expand_dims(train_x, -1).shape"
      ],
      "execution_count": null,
      "outputs": [
        {
          "output_type": "execute_result",
          "data": {
            "text/plain": [
              "TensorShape([60000, 28, 28, 1])"
            ]
          },
          "metadata": {
            "tags": []
          },
          "execution_count": 40
        }
      ]
    },
    {
      "cell_type": "markdown",
      "metadata": {
        "id": "n0EJtc-duG7L",
        "colab_type": "text"
      },
      "source": [
        "- tf.newaxis 활용"
      ]
    },
    {
      "cell_type": "code",
      "metadata": {
        "id": "U4OL2hasuGKU",
        "colab_type": "code",
        "colab": {}
      },
      "source": [
        "train_x = train_x[..., tf.newaxis]\n",
        "test_x = test_x[..., tf.newaxis]"
      ],
      "execution_count": null,
      "outputs": []
    },
    {
      "cell_type": "markdown",
      "metadata": {
        "id": "V1Uj3Ca1uVAF",
        "colab_type": "text"
      },
      "source": [
        "기존 (60000, 28, 28) -> (60000, 28, 28, 1) 로 변경된 것을 확인할 수 있음"
      ]
    },
    {
      "cell_type": "code",
      "metadata": {
        "id": "8IeKNEwOuR19",
        "colab_type": "code",
        "colab": {
          "base_uri": "https://localhost:8080/",
          "height": 34
        },
        "outputId": "6279ddba-09f7-41ce-cd8e-fa0c711fea17"
      },
      "source": [
        "train_x.shape"
      ],
      "execution_count": null,
      "outputs": [
        {
          "output_type": "execute_result",
          "data": {
            "text/plain": [
              "(60000, 28, 28, 1)"
            ]
          },
          "metadata": {
            "tags": []
          },
          "execution_count": 42
        }
      ]
    },
    {
      "cell_type": "markdown",
      "metadata": {
        "id": "VJdYoP9Uulks",
        "colab_type": "text"
      },
      "source": [
        "### Rescaling"
      ]
    },
    {
      "cell_type": "code",
      "metadata": {
        "id": "jnr7CaUCuTO_",
        "colab_type": "code",
        "colab": {
          "base_uri": "https://localhost:8080/",
          "height": 34
        },
        "outputId": "b2f9acf6-8586-4a38-e7ad-b827d4fd1273"
      },
      "source": [
        "np.min(train_x), np.max(train_x)"
      ],
      "execution_count": null,
      "outputs": [
        {
          "output_type": "execute_result",
          "data": {
            "text/plain": [
              "(0, 255)"
            ]
          },
          "metadata": {
            "tags": []
          },
          "execution_count": 43
        }
      ]
    },
    {
      "cell_type": "markdown",
      "metadata": {
        "id": "5NA8OTXtus6L",
        "colab_type": "text"
      },
      "source": [
        "최저의 값이 0, 최대의 값이 255이므로 모든 데이터를 0과 1 사이의 데이터로 바꾸기위해 255로 나누어줌"
      ]
    },
    {
      "cell_type": "code",
      "metadata": {
        "id": "YZQjJZIcusd_",
        "colab_type": "code",
        "colab": {}
      },
      "source": [
        "train_x = train_x / 255.\n",
        "test_x = test_x / 255."
      ],
      "execution_count": null,
      "outputs": []
    },
    {
      "cell_type": "code",
      "metadata": {
        "id": "HDjyX-WHu5mO",
        "colab_type": "code",
        "colab": {
          "base_uri": "https://localhost:8080/",
          "height": 34
        },
        "outputId": "1437de67-2505-40eb-e8ef-1705704c30fd"
      },
      "source": [
        "np.min(train_x), np.max(train_x)"
      ],
      "execution_count": null,
      "outputs": [
        {
          "output_type": "execute_result",
          "data": {
            "text/plain": [
              "(0.0, 1.0)"
            ]
          },
          "metadata": {
            "tags": []
          },
          "execution_count": 45
        }
      ]
    },
    {
      "cell_type": "markdown",
      "metadata": {
        "id": "TcEe7xEyvKIX",
        "colab_type": "text"
      },
      "source": [
        "---"
      ]
    },
    {
      "cell_type": "markdown",
      "metadata": {
        "id": "0dLE-mVPvLNP",
        "colab_type": "text"
      },
      "source": [
        "### Training\n",
        "- 학습 시작\n",
        "- 하이퍼 파라미터 : num_epochs, batch_size"
      ]
    },
    {
      "cell_type": "code",
      "metadata": {
        "id": "-V5isADou8NJ",
        "colab_type": "code",
        "colab": {}
      },
      "source": [
        "num_epochs = 1\n",
        "batch_size = 32"
      ],
      "execution_count": 59,
      "outputs": []
    },
    {
      "cell_type": "markdown",
      "metadata": {
        "id": "hSbvLOfDvXml",
        "colab_type": "text"
      },
      "source": [
        "- model.fit"
      ]
    },
    {
      "cell_type": "code",
      "metadata": {
        "id": "rkmU72HuvW_r",
        "colab_type": "code",
        "colab": {
          "base_uri": "https://localhost:8080/",
          "height": 71
        },
        "outputId": "80c6a81d-cd47-4d39-a3a7-fbbf3b3be4d0"
      },
      "source": [
        "model.fit(train_x, train_y, \n",
        "          batch_size=batch_size, \n",
        "          shuffle=True, \n",
        "          epochs=num_epochs) "
      ],
      "execution_count": 62,
      "outputs": [
        {
          "output_type": "stream",
          "text": [
            "1875/1875 [==============================] - 15s 8ms/step - loss: 0.2534 - sparse_categorical_accuracy: 0.9325\n"
          ],
          "name": "stdout"
        },
        {
          "output_type": "execute_result",
          "data": {
            "text/plain": [
              "<tensorflow.python.keras.callbacks.History at 0x7f33278adba8>"
            ]
          },
          "metadata": {
            "tags": []
          },
          "execution_count": 62
        }
      ]
    }
  ]
}