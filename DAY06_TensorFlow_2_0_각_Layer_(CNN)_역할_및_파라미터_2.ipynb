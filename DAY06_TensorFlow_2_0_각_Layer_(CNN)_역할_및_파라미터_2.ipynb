{
  "nbformat": 4,
  "nbformat_minor": 0,
  "metadata": {
    "colab": {
      "name": "DAY06_TensorFlow_2_0_각_Layer_(CNN)_역할_및_파라미터_2.ipynb",
      "provenance": []
    },
    "kernelspec": {
      "name": "python3",
      "display_name": "Python 3"
    }
  },
  "cells": [
    {
      "cell_type": "markdown",
      "metadata": {
        "id": "altWrfyZkCeC",
        "colab_type": "text"
      },
      "source": [
        "## CNN : Convolution Neural Network\n",
        "\n",
        "### Fully Connected : DNN"
      ]
    },
    {
      "cell_type": "markdown",
      "metadata": {
        "id": "FlybOB3tk1B7",
        "colab_type": "text"
      },
      "source": [
        "### Flatten : tf.keras.layers.Flatten()"
      ]
    },
    {
      "cell_type": "code",
      "metadata": {
        "id": "AvFZ4o1_jrBj",
        "colab_type": "code",
        "colab": {}
      },
      "source": [
        "import tensorflow as tf"
      ],
      "execution_count": null,
      "outputs": []
    },
    {
      "cell_type": "code",
      "metadata": {
        "id": "erwNPOiZlUZG",
        "colab_type": "code",
        "colab": {
          "base_uri": "https://localhost:8080/",
          "height": 53
        },
        "outputId": "2eb7d273-8608-473e-9d19-1635ad01622b"
      },
      "source": [
        "from tensorflow.keras import datasets\n",
        "\n",
        "(train_x, train_y), (test_x, test_y) = datasets.mnist.load_data()\n",
        "\n",
        "image = train_x[0]\n",
        "\n",
        "image = image[tf.newaxis, ..., tf.newaxis]\n",
        "\n",
        "image = tf.cast(image, dtype=tf.float32)\n",
        "\n",
        "layer = tf.keras.layers.Conv2D(3, 3, 1, padding='SAME')\n",
        "\n",
        "output = layer(image)\n",
        "\n",
        "act_layer = tf.keras.layers.ReLU()\n",
        "\n",
        "act_output = act_layer(output)\n",
        "\n",
        "pool_layer = tf.keras.layers.MaxPool2D(pool_size=(2, 2), strides=(2, 2), padding='SAME')\n",
        "pool_output = pool_layer(act_output)"
      ],
      "execution_count": null,
      "outputs": [
        {
          "output_type": "stream",
          "text": [
            "Downloading data from https://storage.googleapis.com/tensorflow/tf-keras-datasets/mnist.npz\n",
            "11493376/11490434 [==============================] - 0s 0us/step\n"
          ],
          "name": "stdout"
        }
      ]
    },
    {
      "cell_type": "code",
      "metadata": {
        "id": "tWPPmbLmlAQ_",
        "colab_type": "code",
        "colab": {
          "base_uri": "https://localhost:8080/",
          "height": 35
        },
        "outputId": "c4157b37-8952-42a8-e460-5d5d54a91673"
      },
      "source": [
        "tf.keras.layers.Flatten()"
      ],
      "execution_count": null,
      "outputs": [
        {
          "output_type": "execute_result",
          "data": {
            "text/plain": [
              "<tensorflow.python.keras.layers.core.Flatten at 0x7f8f3d6e9080>"
            ]
          },
          "metadata": {
            "tags": []
          },
          "execution_count": 2
        }
      ]
    },
    {
      "cell_type": "code",
      "metadata": {
        "id": "AMJtKLY9lCb5",
        "colab_type": "code",
        "colab": {}
      },
      "source": [
        "flatten_layer = tf.keras.layers.Flatten()"
      ],
      "execution_count": null,
      "outputs": []
    },
    {
      "cell_type": "code",
      "metadata": {
        "id": "h0aHHHGIlEsI",
        "colab_type": "code",
        "colab": {
          "base_uri": "https://localhost:8080/",
          "height": 35
        },
        "outputId": "3dbe0086-6c42-4eea-c310-73b88a9472aa"
      },
      "source": [
        "flatten = flatten_layer(pool_output)\n",
        "pool_output.shape, flatten.shape"
      ],
      "execution_count": null,
      "outputs": [
        {
          "output_type": "execute_result",
          "data": {
            "text/plain": [
              "(TensorShape([1, 14, 14, 3]), TensorShape([1, 588]))"
            ]
          },
          "metadata": {
            "tags": []
          },
          "execution_count": 13
        }
      ]
    },
    {
      "cell_type": "markdown",
      "metadata": {
        "id": "dukwXk8FsD2z",
        "colab_type": "text"
      },
      "source": [
        "14 x 14 x 3 = 588\n",
        "[ 1, 588 ] <- 1 == Batch Size"
      ]
    },
    {
      "cell_type": "code",
      "metadata": {
        "id": "WTN1UTACnDdc",
        "colab_type": "code",
        "colab": {
          "base_uri": "https://localhost:8080/",
          "height": 35
        },
        "outputId": "e27a7a6b-dc72-46e3-de27-3456435f4133"
      },
      "source": [
        "14*14*3 == 588"
      ],
      "execution_count": null,
      "outputs": [
        {
          "output_type": "execute_result",
          "data": {
            "text/plain": [
              "True"
            ]
          },
          "metadata": {
            "tags": []
          },
          "execution_count": 14
        }
      ]
    },
    {
      "cell_type": "code",
      "metadata": {
        "id": "Llr0_tS-ryGt",
        "colab_type": "code",
        "colab": {}
      },
      "source": [
        "import matplotlib.pyplot as plt\n",
        "import numpy as np"
      ],
      "execution_count": null,
      "outputs": []
    },
    {
      "cell_type": "code",
      "metadata": {
        "id": "WulAOU2sr8Ls",
        "colab_type": "code",
        "colab": {
          "base_uri": "https://localhost:8080/",
          "height": 189
        },
        "outputId": "d9d079e5-6c61-47a7-b765-46e297b9c6e3"
      },
      "source": [
        "plt.figure(figsize=(10, 5))\n",
        "plt.subplot(2, 2, 1)\n",
        "plt.hist(flatten.numpy().ravel())\n",
        "plt.subplot(2, 2, 2)\n",
        "plt.imshow(flatten[:, :100])"
      ],
      "execution_count": null,
      "outputs": [
        {
          "output_type": "execute_result",
          "data": {
            "text/plain": [
              "<matplotlib.image.AxesImage at 0x7f8ef1a76358>"
            ]
          },
          "metadata": {
            "tags": []
          },
          "execution_count": 18
        },
        {
          "output_type": "display_data",
          "data": {
            "image/png": "[encoded data removed]",
            "text/plain": [
              "<Figure size 720x360 with 2 Axes>"
            ]
          },
          "metadata": {
            "tags": [],
            "needs_background": "light"
          }
        }
      ]
    },
    {
      "cell_type": "markdown",
      "metadata": {
        "id": "WFX5_r_etBB8",
        "colab_type": "text"
      },
      "source": [
        "- tf.keras.layers.Dense"
      ]
    },
    {
      "cell_type": "code",
      "metadata": {
        "id": "0wONqeKWsoyA",
        "colab_type": "code",
        "colab": {
          "base_uri": "https://localhost:8080/",
          "height": 35
        },
        "outputId": "d5e1f2b2-4930-4f62-ac48-60a5f71d8714"
      },
      "source": [
        "tf.keras.layers.Dense(32, activation='relu')"
      ],
      "execution_count": null,
      "outputs": [
        {
          "output_type": "execute_result",
          "data": {
            "text/plain": [
              "<tensorflow.python.keras.layers.core.Dense at 0x7f8ef19e2a90>"
            ]
          },
          "metadata": {
            "tags": []
          },
          "execution_count": 19
        }
      ]
    },
    {
      "cell_type": "code",
      "metadata": {
        "id": "_5xUNl4FtRhP",
        "colab_type": "code",
        "colab": {
          "base_uri": "https://localhost:8080/",
          "height": 35
        },
        "outputId": "8bd5c3b1-badb-4536-b6b6-c77e86459fee"
      },
      "source": [
        "flatten.shape"
      ],
      "execution_count": null,
      "outputs": [
        {
          "output_type": "execute_result",
          "data": {
            "text/plain": [
              "TensorShape([1, 588])"
            ]
          },
          "metadata": {
            "tags": []
          },
          "execution_count": 20
        }
      ]
    },
    {
      "cell_type": "markdown",
      "metadata": {
        "id": "-Cau2CuPtPeL",
        "colab_type": "text"
      },
      "source": [
        "- Dense( 32, <- 32 == ( 588 input -> 32 nodes ) )"
      ]
    },
    {
      "cell_type": "code",
      "metadata": {
        "id": "si835zv9tF7h",
        "colab_type": "code",
        "colab": {
          "base_uri": "https://localhost:8080/",
          "height": 35
        },
        "outputId": "4aff2242-7c6b-4d53-c194-e2cdb88d2ee1"
      },
      "source": [
        "dense_layer = tf.keras.layers.Dense(32, activation='relu')\n",
        "dense_layer"
      ],
      "execution_count": null,
      "outputs": [
        {
          "output_type": "execute_result",
          "data": {
            "text/plain": [
              "<tensorflow.python.keras.layers.core.Dense at 0x7f8ef1f13278>"
            ]
          },
          "metadata": {
            "tags": []
          },
          "execution_count": 21
        }
      ]
    },
    {
      "cell_type": "code",
      "metadata": {
        "id": "GBnYtwPattFD",
        "colab_type": "code",
        "colab": {
          "base_uri": "https://localhost:8080/",
          "height": 35
        },
        "outputId": "ed10645b-1aa0-45ad-a68a-91d20fb3586d"
      },
      "source": [
        "dense_output = dense_layer(flatten)\n",
        "flatten.shape, dense_output.shape"
      ],
      "execution_count": null,
      "outputs": [
        {
          "output_type": "execute_result",
          "data": {
            "text/plain": [
              "(TensorShape([1, 588]), TensorShape([1, 32]))"
            ]
          },
          "metadata": {
            "tags": []
          },
          "execution_count": 23
        }
      ]
    },
    {
      "cell_type": "markdown",
      "metadata": {
        "id": "fxk9ksimt5We",
        "colab_type": "text"
      },
      "source": [
        "After Dense Layer 588 -> 32"
      ]
    },
    {
      "cell_type": "code",
      "metadata": {
        "id": "cKGvQN5Ct2NK",
        "colab_type": "code",
        "colab": {
          "base_uri": "https://localhost:8080/",
          "height": 35
        },
        "outputId": "bf15e77c-f1cf-428d-a759-60819f9c9c55"
      },
      "source": [
        "dense_layer_2 = tf.keras.layers.Dense(10, activation='relu')\n",
        "dense_output_2 = dense_layer_2(dense_output)\n",
        "dense_output.shape, dense_output_2.shape"
      ],
      "execution_count": null,
      "outputs": [
        {
          "output_type": "execute_result",
          "data": {
            "text/plain": [
              "(TensorShape([1, 32]), TensorShape([1, 10]))"
            ]
          },
          "metadata": {
            "tags": []
          },
          "execution_count": 25
        }
      ]
    },
    {
      "cell_type": "markdown",
      "metadata": {
        "id": "cvQb7u2QuqTl",
        "colab_type": "text"
      },
      "source": [
        "### Dropout"
      ]
    },
    {
      "cell_type": "code",
      "metadata": {
        "id": "GAOAdLF9unvV",
        "colab_type": "code",
        "colab": {
          "base_uri": "https://localhost:8080/",
          "height": 35
        },
        "outputId": "b95c6668-402f-4ad6-991f-c0ac36fbcf8f"
      },
      "source": [
        "dropout_layer = tf.keras.layers.Dropout(0.7)\n",
        "dropout_output = dropout_layer(dense_output_2)\n",
        "dense_output_2.shape, dropout_output.shape"
      ],
      "execution_count": null,
      "outputs": [
        {
          "output_type": "execute_result",
          "data": {
            "text/plain": [
              "(TensorShape([1, 10]), TensorShape([1, 10]))"
            ]
          },
          "metadata": {
            "tags": []
          },
          "execution_count": 26
        }
      ]
    }
  ]
}