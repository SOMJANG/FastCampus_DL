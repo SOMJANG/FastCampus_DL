{
 "cells": [
  {
   "cell_type": "markdown",
   "metadata": {},
   "source": [
    "## Numpy"
   ]
  },
  {
   "cell_type": "code",
   "execution_count": 1,
   "metadata": {},
   "outputs": [],
   "source": [
    "import numpy as np"
   ]
  },
  {
   "cell_type": "markdown",
   "metadata": {},
   "source": [
    "### data type"
   ]
  },
  {
   "cell_type": "code",
   "execution_count": 2,
   "metadata": {},
   "outputs": [
    {
     "data": {
      "text/plain": [
       "dtype('int64')"
      ]
     },
     "execution_count": 2,
     "metadata": {},
     "output_type": "execute_result"
    }
   ],
   "source": [
    "arr = np.array([[1, 2, 3], [1, 2, 3]])\n",
    "arr.dtype"
   ]
  },
  {
   "cell_type": "markdown",
   "metadata": {},
   "source": [
    "기본적으로 np.array를 통해 int값을 가지는 배열을 만들면 int64 형식이 됨"
   ]
  },
  {
   "cell_type": "markdown",
   "metadata": {},
   "source": [
    "#### .astype( ) 으로 data type을 변경할 수 있음\n",
    "astype(np.int32)를 통해 int64 -> int32로 변경되는 것을 확인"
   ]
  },
  {
   "cell_type": "code",
   "execution_count": 3,
   "metadata": {},
   "outputs": [
    {
     "data": {
      "text/plain": [
       "dtype('int32')"
      ]
     },
     "execution_count": 3,
     "metadata": {},
     "output_type": "execute_result"
    }
   ],
   "source": [
    "arr = arr.astype(np.int32)\n",
    "arr.dtype"
   ]
  },
  {
   "cell_type": "markdown",
   "metadata": {},
   "source": [
    "#### 처음에 생성할 때 dtype = np.uint8 같은 옵션을 주어 형식을 지정할 수도 있음"
   ]
  },
  {
   "cell_type": "code",
   "execution_count": 5,
   "metadata": {},
   "outputs": [
    {
     "data": {
      "text/plain": [
       "dtype('uint8')"
      ]
     },
     "execution_count": 5,
     "metadata": {},
     "output_type": "execute_result"
    }
   ],
   "source": [
    "arr = np.array([[1, 2, 3], [1, 2, 3]], dtype=np.uint8)\n",
    "arr.dtype"
   ]
  },
  {
   "cell_type": "markdown",
   "metadata": {},
   "source": [
    "#### len(arr.shape) 를 통해서 차원의 개수 확인 가능"
   ]
  },
  {
   "cell_type": "code",
   "execution_count": 6,
   "metadata": {},
   "outputs": [
    {
     "data": {
      "text/plain": [
       "2"
      ]
     },
     "execution_count": 6,
     "metadata": {},
     "output_type": "execute_result"
    }
   ],
   "source": [
    "len(arr.shape)"
   ]
  },
  {
   "cell_type": "markdown",
   "metadata": {},
   "source": [
    "#### ndim을 통해서는 차원 수를 확인 가능"
   ]
  },
  {
   "cell_type": "code",
   "execution_count": 9,
   "metadata": {},
   "outputs": [
    {
     "data": {
      "text/plain": [
       "2"
      ]
     },
     "execution_count": 9,
     "metadata": {},
     "output_type": "execute_result"
    }
   ],
   "source": [
    "arr.ndim"
   ]
  },
  {
   "cell_type": "markdown",
   "metadata": {},
   "source": [
    "#### size 확인은 .size\n",
    "여기서 사이즈가 6이 나오는 이유는 arr.shape 을 했을때 (2, 3) -> 2 x 3 = 6 이기 때문"
   ]
  },
  {
   "cell_type": "code",
   "execution_count": 10,
   "metadata": {},
   "outputs": [
    {
     "data": {
      "text/plain": [
       "6"
      ]
     },
     "execution_count": 10,
     "metadata": {},
     "output_type": "execute_result"
    }
   ],
   "source": [
    "arr.size"
   ]
  },
  {
   "cell_type": "code",
   "execution_count": 11,
   "metadata": {},
   "outputs": [
    {
     "data": {
      "text/plain": [
       "(2, 3)"
      ]
     },
     "execution_count": 11,
     "metadata": {},
     "output_type": "execute_result"
    }
   ],
   "source": [
    "arr.shape"
   ]
  },
  {
   "cell_type": "markdown",
   "metadata": {},
   "source": [
    "#### dtype을 활용하면 데이터의 형식을 알 수 있음"
   ]
  },
  {
   "cell_type": "code",
   "execution_count": 12,
   "metadata": {},
   "outputs": [
    {
     "data": {
      "text/plain": [
       "dtype('uint8')"
      ]
     },
     "execution_count": 12,
     "metadata": {},
     "output_type": "execute_result"
    }
   ],
   "source": [
    "arr.dtype"
   ]
  },
  {
   "cell_type": "markdown",
   "metadata": {},
   "source": [
    "###  Reshape"
   ]
  },
  {
   "cell_type": "code",
   "execution_count": 13,
   "metadata": {},
   "outputs": [
    {
     "data": {
      "text/plain": [
       "(2, 3)"
      ]
     },
     "execution_count": 13,
     "metadata": {},
     "output_type": "execute_result"
    }
   ],
   "source": [
    "arr = np.array([[1, 2, 3], [1, 2, 3]])\n",
    "arr.shape"
   ]
  },
  {
   "cell_type": "markdown",
   "metadata": {},
   "source": [
    "현재의 shape은 (2, 3)"
   ]
  },
  {
   "cell_type": "markdown",
   "metadata": {},
   "source": [
    "사이즈는 그대로 두고 shape를 바꾸는 경우"
   ]
  },
  {
   "cell_type": "code",
   "execution_count": 15,
   "metadata": {},
   "outputs": [
    {
     "data": {
      "text/plain": [
       "(1, 6)"
      ]
     },
     "execution_count": 15,
     "metadata": {},
     "output_type": "execute_result"
    }
   ],
   "source": [
    "arr_reshape = arr.reshape([1, 6])\n",
    "arr_reshape.shape"
   ]
  },
  {
   "cell_type": "code",
   "execution_count": 16,
   "metadata": {},
   "outputs": [
    {
     "data": {
      "text/plain": [
       "(6,)"
      ]
     },
     "execution_count": 16,
     "metadata": {},
     "output_type": "execute_result"
    }
   ],
   "source": [
    "arr_reshape = arr.reshape([6])\n",
    "arr_reshape.shape"
   ]
  },
  {
   "cell_type": "markdown",
   "metadata": {},
   "source": [
    "#### 숫자가 커지고 차원이 복잡해져 사이즈 구하기가 어려운 경우\n",
    "reshape, -1 활용"
   ]
  },
  {
   "cell_type": "code",
   "execution_count": 18,
   "metadata": {},
   "outputs": [
    {
     "data": {
      "text/plain": [
       "(6,)"
      ]
     },
     "execution_count": 18,
     "metadata": {},
     "output_type": "execute_result"
    }
   ],
   "source": [
    "arr_reshape = arr.reshape(-1)\n",
    "arr_reshape.shape"
   ]
  },
  {
   "cell_type": "markdown",
   "metadata": {},
   "source": [
    "3으로 나누고서 남은 것 -1 -> 2"
   ]
  },
  {
   "cell_type": "code",
   "execution_count": 20,
   "metadata": {},
   "outputs": [
    {
     "data": {
      "text/plain": [
       "(2, 3)"
      ]
     },
     "execution_count": 20,
     "metadata": {},
     "output_type": "execute_result"
    }
   ],
   "source": [
    "arr_reshape = arr.reshape(-1, 3)\n",
    "arr_reshape.shape"
   ]
  },
  {
   "cell_type": "code",
   "execution_count": 21,
   "metadata": {},
   "outputs": [
    {
     "data": {
      "text/plain": [
       "(3, 2)"
      ]
     },
     "execution_count": 21,
     "metadata": {},
     "output_type": "execute_result"
    }
   ],
   "source": [
    "arr_reshape = arr.reshape(3, -1)\n",
    "arr_reshape.shape"
   ]
  },
  {
   "cell_type": "markdown",
   "metadata": {},
   "source": [
    "#### random array => 3차원으로 늘이기"
   ]
  },
  {
   "cell_type": "code",
   "execution_count": 24,
   "metadata": {},
   "outputs": [
    {
     "data": {
      "text/plain": [
       "(8, 8)"
      ]
     },
     "execution_count": 24,
     "metadata": {},
     "output_type": "execute_result"
    }
   ],
   "source": [
    "arr = np.random.randn(8, 8)\n",
    "arr.shape"
   ]
  },
  {
   "cell_type": "code",
   "execution_count": 26,
   "metadata": {},
   "outputs": [
    {
     "data": {
      "text/plain": [
       "(32, 2)"
      ]
     },
     "execution_count": 26,
     "metadata": {},
     "output_type": "execute_result"
    }
   ],
   "source": [
    "arr = arr.reshape([32, 2])\n",
    "arr.shape"
   ]
  },
  {
   "cell_type": "code",
   "execution_count": 27,
   "metadata": {},
   "outputs": [
    {
     "data": {
      "text/plain": [
       "(32, 2, 1, 1, 1)"
      ]
     },
     "execution_count": 27,
     "metadata": {},
     "output_type": "execute_result"
    }
   ],
   "source": [
    "arr = arr.reshape(-1, 2, 1, 1, 1)\n",
    "arr.shape"
   ]
  },
  {
   "cell_type": "code",
   "execution_count": 28,
   "metadata": {},
   "outputs": [
    {
     "data": {
      "text/plain": [
       "array([[[[[ 0.16459937]]],\n",
       "\n",
       "\n",
       "        [[[-1.91678681]]]],\n",
       "\n",
       "\n",
       "\n",
       "       [[[[-0.59417954]]],\n",
       "\n",
       "\n",
       "        [[[-1.14660196]]]],\n",
       "\n",
       "\n",
       "\n",
       "       [[[[-2.49594582]]],\n",
       "\n",
       "\n",
       "        [[[ 0.30393008]]]],\n",
       "\n",
       "\n",
       "\n",
       "       [[[[ 0.0893726 ]]],\n",
       "\n",
       "\n",
       "        [[[ 1.68639453]]]],\n",
       "\n",
       "\n",
       "\n",
       "       [[[[ 1.23430909]]],\n",
       "\n",
       "\n",
       "        [[[ 0.19557472]]]],\n",
       "\n",
       "\n",
       "\n",
       "       [[[[ 2.19455115]]],\n",
       "\n",
       "\n",
       "        [[[ 0.86711345]]]],\n",
       "\n",
       "\n",
       "\n",
       "       [[[[-0.28120422]]],\n",
       "\n",
       "\n",
       "        [[[-0.88835496]]]],\n",
       "\n",
       "\n",
       "\n",
       "       [[[[-0.94366535]]],\n",
       "\n",
       "\n",
       "        [[[-0.12447333]]]],\n",
       "\n",
       "\n",
       "\n",
       "       [[[[-0.76235692]]],\n",
       "\n",
       "\n",
       "        [[[ 0.69034781]]]],\n",
       "\n",
       "\n",
       "\n",
       "       [[[[ 0.03517668]]],\n",
       "\n",
       "\n",
       "        [[[ 0.92714388]]]],\n",
       "\n",
       "\n",
       "\n",
       "       [[[[-1.22754352]]],\n",
       "\n",
       "\n",
       "        [[[-0.8863559 ]]]],\n",
       "\n",
       "\n",
       "\n",
       "       [[[[-0.42726137]]],\n",
       "\n",
       "\n",
       "        [[[ 0.73738686]]]],\n",
       "\n",
       "\n",
       "\n",
       "       [[[[ 1.35207056]]],\n",
       "\n",
       "\n",
       "        [[[-1.02956616]]]],\n",
       "\n",
       "\n",
       "\n",
       "       [[[[-0.54719123]]],\n",
       "\n",
       "\n",
       "        [[[ 0.67490426]]]],\n",
       "\n",
       "\n",
       "\n",
       "       [[[[-1.75374225]]],\n",
       "\n",
       "\n",
       "        [[[ 0.59469279]]]],\n",
       "\n",
       "\n",
       "\n",
       "       [[[[-2.21464628]]],\n",
       "\n",
       "\n",
       "        [[[ 0.97535964]]]],\n",
       "\n",
       "\n",
       "\n",
       "       [[[[-0.69708039]]],\n",
       "\n",
       "\n",
       "        [[[ 0.22209201]]]],\n",
       "\n",
       "\n",
       "\n",
       "       [[[[-0.03999331]]],\n",
       "\n",
       "\n",
       "        [[[ 0.27332846]]]],\n",
       "\n",
       "\n",
       "\n",
       "       [[[[-1.2182507 ]]],\n",
       "\n",
       "\n",
       "        [[[-0.49833731]]]],\n",
       "\n",
       "\n",
       "\n",
       "       [[[[-0.52241636]]],\n",
       "\n",
       "\n",
       "        [[[-0.26594786]]]],\n",
       "\n",
       "\n",
       "\n",
       "       [[[[ 1.7820463 ]]],\n",
       "\n",
       "\n",
       "        [[[ 0.79215291]]]],\n",
       "\n",
       "\n",
       "\n",
       "       [[[[-0.42393032]]],\n",
       "\n",
       "\n",
       "        [[[ 0.10687818]]]],\n",
       "\n",
       "\n",
       "\n",
       "       [[[[-0.2211323 ]]],\n",
       "\n",
       "\n",
       "        [[[-0.42795337]]]],\n",
       "\n",
       "\n",
       "\n",
       "       [[[[ 0.3714319 ]]],\n",
       "\n",
       "\n",
       "        [[[-0.71977562]]]],\n",
       "\n",
       "\n",
       "\n",
       "       [[[[-0.54721646]]],\n",
       "\n",
       "\n",
       "        [[[ 0.65886181]]]],\n",
       "\n",
       "\n",
       "\n",
       "       [[[[-1.76596787]]],\n",
       "\n",
       "\n",
       "        [[[-0.71361229]]]],\n",
       "\n",
       "\n",
       "\n",
       "       [[[[ 1.38492836]]],\n",
       "\n",
       "\n",
       "        [[[-2.28199014]]]],\n",
       "\n",
       "\n",
       "\n",
       "       [[[[-1.11292108]]],\n",
       "\n",
       "\n",
       "        [[[ 0.62986813]]]],\n",
       "\n",
       "\n",
       "\n",
       "       [[[[ 1.14081162]]],\n",
       "\n",
       "\n",
       "        [[[-1.63810155]]]],\n",
       "\n",
       "\n",
       "\n",
       "       [[[[-1.39530063]]],\n",
       "\n",
       "\n",
       "        [[[-1.87541421]]]],\n",
       "\n",
       "\n",
       "\n",
       "       [[[[ 0.5328703 ]]],\n",
       "\n",
       "\n",
       "        [[[ 2.13639076]]]],\n",
       "\n",
       "\n",
       "\n",
       "       [[[[-0.65923803]]],\n",
       "\n",
       "\n",
       "        [[[-2.46367743]]]]])"
      ]
     },
     "execution_count": 28,
     "metadata": {},
     "output_type": "execute_result"
    }
   ],
   "source": [
    "arr"
   ]
  },
  {
   "cell_type": "markdown",
   "metadata": {},
   "source": [
    "### Ravel : 차원을 1로 바꾸어줌\n",
    "다차원 -> 1차원으로 변경"
   ]
  },
  {
   "cell_type": "code",
   "execution_count": 29,
   "metadata": {},
   "outputs": [
    {
     "data": {
      "text/plain": [
       "(32, 2, 1, 1, 1)"
      ]
     },
     "execution_count": 29,
     "metadata": {},
     "output_type": "execute_result"
    }
   ],
   "source": [
    "arr.shape"
   ]
  },
  {
   "cell_type": "code",
   "execution_count": 30,
   "metadata": {},
   "outputs": [
    {
     "data": {
      "text/plain": [
       "(64,)"
      ]
     },
     "execution_count": 30,
     "metadata": {},
     "output_type": "execute_result"
    }
   ],
   "source": [
    "arr = arr.ravel()\n",
    "arr.shape"
   ]
  },
  {
   "cell_type": "markdown",
   "metadata": {},
   "source": [
    "arr.ravel() == arr.reshape(1)"
   ]
  },
  {
   "cell_type": "code",
   "execution_count": 31,
   "metadata": {},
   "outputs": [
    {
     "data": {
      "text/plain": [
       "array([ True,  True,  True,  True,  True,  True,  True,  True,  True,\n",
       "        True,  True,  True,  True,  True,  True,  True,  True,  True,\n",
       "        True,  True,  True,  True,  True,  True,  True,  True,  True,\n",
       "        True,  True,  True,  True,  True,  True,  True,  True,  True,\n",
       "        True,  True,  True,  True,  True,  True,  True,  True,  True,\n",
       "        True,  True,  True,  True,  True,  True,  True,  True,  True,\n",
       "        True,  True,  True,  True,  True,  True,  True,  True,  True,\n",
       "        True])"
      ]
     },
     "execution_count": 31,
     "metadata": {},
     "output_type": "execute_result"
    }
   ],
   "source": [
    "arr.ravel() == arr.reshape(-1)"
   ]
  },
  {
   "cell_type": "markdown",
   "metadata": {},
   "source": [
    "### np.expand_dims( )\n",
    "안의 값은 유지하면서 차원 수를 늘리고자 할 때 사용\n",
    "\n",
    "reshape로 차원을 늘리다 보면 가끔 내부의 값들이 정렬되는 경우가 있음"
   ]
  },
  {
   "cell_type": "code",
   "execution_count": 32,
   "metadata": {},
   "outputs": [
    {
     "data": {
      "text/plain": [
       "(64,)"
      ]
     },
     "execution_count": 32,
     "metadata": {},
     "output_type": "execute_result"
    }
   ],
   "source": [
    "arr.shape"
   ]
  },
  {
   "cell_type": "markdown",
   "metadata": {},
   "source": [
    "현재의 shape 는 (64, ) 이걸 (64, 1)로 바꾸고 싶다 하면 다음과 같음"
   ]
  },
  {
   "cell_type": "code",
   "execution_count": 33,
   "metadata": {},
   "outputs": [
    {
     "data": {
      "text/plain": [
       "(64, 1)"
      ]
     },
     "execution_count": 33,
     "metadata": {},
     "output_type": "execute_result"
    }
   ],
   "source": [
    "arr_expand = np.expand_dims(arr, -1)\n",
    "arr_expand.shape"
   ]
  }
 ],
 "metadata": {
  "kernelspec": {
   "display_name": "Python 3",
   "language": "python",
   "name": "python3"
  },
  "language_info": {
   "codemirror_mode": {
    "name": "ipython",
    "version": 3
   },
   "file_extension": ".py",
   "mimetype": "text/x-python",
   "name": "python",
   "nbconvert_exporter": "python",
   "pygments_lexer": "ipython3",
   "version": "3.7.3"
  }
 },
 "nbformat": 4,
 "nbformat_minor": 2
}
