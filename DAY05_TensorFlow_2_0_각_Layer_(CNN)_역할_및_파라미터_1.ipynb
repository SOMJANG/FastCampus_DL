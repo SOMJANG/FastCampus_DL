{
  "nbformat": 4,
  "nbformat_minor": 0,
  "metadata": {
    "colab": {
      "name": "DAY05_TensorFlow 2.0 각 Layer (CNN) 역할 및 파라미터 1.ipynb",
      "provenance": [],
      "collapsed_sections": []
    },
    "kernelspec": {
      "name": "python3",
      "display_name": "Python 3"
    },
    "accelerator": "GPU"
  },
  "cells": [
    {
      "cell_type": "markdown",
      "metadata": {
        "id": "Fj434TNtegQr",
        "colab_type": "text"
      },
      "source": [
        "## TensorFlow 2.0 Layers"
      ]
    },
    {
      "cell_type": "code",
      "metadata": {
        "id": "0o0MFgjKeGi_",
        "colab_type": "code",
        "colab": {}
      },
      "source": [
        "import tensorflow as tf"
      ],
      "execution_count": 1,
      "outputs": []
    },
    {
      "cell_type": "markdown",
      "metadata": {
        "id": "3zfo9DvLek_U",
        "colab_type": "text"
      },
      "source": [
        "### Input Image"
      ]
    },
    {
      "cell_type": "code",
      "metadata": {
        "id": "LU06Ob-Tejpx",
        "colab_type": "code",
        "colab": {}
      },
      "source": [
        "import matplotlib.pyplot as plt"
      ],
      "execution_count": 3,
      "outputs": []
    },
    {
      "cell_type": "markdown",
      "metadata": {
        "id": "57jHG1bOfCj3",
        "colab_type": "text"
      },
      "source": [
        "#### MNIST 데이터 불러오기"
      ]
    },
    {
      "cell_type": "code",
      "metadata": {
        "id": "UqdMeDkseq0D",
        "colab_type": "code",
        "colab": {
          "base_uri": "https://localhost:8080/",
          "height": 71
        },
        "outputId": "1af7e8a5-00c7-4753-95b6-66061cf3ef7a"
      },
      "source": [
        "from tensorflow.keras import datasets\n",
        "\n",
        "(train_x, train_y), (test_x, test_y) = datasets.mnist.load_data()"
      ],
      "execution_count": 4,
      "outputs": [
        {
          "output_type": "stream",
          "text": [
            "Downloading data from https://storage.googleapis.com/tensorflow/tf-keras-datasets/mnist.npz\n",
            "11493376/11490434 [==============================] - 0s 0us/step\n"
          ],
          "name": "stdout"
        }
      ]
    },
    {
      "cell_type": "code",
      "metadata": {
        "id": "Mf1XXaBse8VJ",
        "colab_type": "code",
        "colab": {
          "base_uri": "https://localhost:8080/",
          "height": 34
        },
        "outputId": "4d5b83bd-74fa-4dde-81fa-ef6c34930ee2"
      },
      "source": [
        "train_x.shape"
      ],
      "execution_count": 5,
      "outputs": [
        {
          "output_type": "execute_result",
          "data": {
            "text/plain": [
              "(60000, 28, 28)"
            ]
          },
          "metadata": {
            "tags": []
          },
          "execution_count": 5
        }
      ]
    },
    {
      "cell_type": "code",
      "metadata": {
        "id": "SIADwUhye-9m",
        "colab_type": "code",
        "colab": {}
      },
      "source": [
        "image = train_x[0]"
      ],
      "execution_count": 6,
      "outputs": []
    },
    {
      "cell_type": "code",
      "metadata": {
        "id": "tKHI4eY_fAuA",
        "colab_type": "code",
        "colab": {
          "base_uri": "https://localhost:8080/",
          "height": 34
        },
        "outputId": "3abd407e-fe87-4460-d5a5-ed5f60544089"
      },
      "source": [
        "image.shape"
      ],
      "execution_count": 7,
      "outputs": [
        {
          "output_type": "execute_result",
          "data": {
            "text/plain": [
              "(28, 28)"
            ]
          },
          "metadata": {
            "tags": []
          },
          "execution_count": 7
        }
      ]
    },
    {
      "cell_type": "markdown",
      "metadata": {
        "id": "k6lfrEpvffgR",
        "colab_type": "text"
      },
      "source": [
        "현재 이미지의 차원 ( 28, 28 ) -> ( hegit, width )\n",
        "\n",
        "우리가 필요한 데이터의 차원 -> [ Batch_size, height, width, channel ]"
      ]
    },
    {
      "cell_type": "code",
      "metadata": {
        "id": "dW_kSAFkfCCB",
        "colab_type": "code",
        "colab": {
          "base_uri": "https://localhost:8080/",
          "height": 265
        },
        "outputId": "c1dd3b7d-9837-4323-fa4e-a528716cc6ca"
      },
      "source": [
        "plt.imshow(image, 'gray')\n",
        "plt.show()"
      ],
      "execution_count": 8,
      "outputs": [
        {
          "output_type": "display_data",
          "data": {
            "image/png": "[encoded data removed]",
            "text/plain": [
              "<Figure size 432x288 with 1 Axes>"
            ]
          },
          "metadata": {
            "tags": [],
            "needs_background": "light"
          }
        }
      ]
    },
    {
      "cell_type": "markdown",
      "metadata": {
        "id": "4E1i8NTzf9Rx",
        "colab_type": "text"
      },
      "source": [
        "image[tf.newaxis, ... , tf.newaxis] 를 통해 (28, 28) -> (1, 28, 28, 1)"
      ]
    },
    {
      "cell_type": "code",
      "metadata": {
        "id": "Vvs3C0u8fnl_",
        "colab_type": "code",
        "colab": {
          "base_uri": "https://localhost:8080/",
          "height": 34
        },
        "outputId": "2a597b25-1049-4438-e942-f37b73f1c15d"
      },
      "source": [
        "image = image[tf.newaxis, ..., tf.newaxis]\n",
        "image.shape"
      ],
      "execution_count": 9,
      "outputs": [
        {
          "output_type": "execute_result",
          "data": {
            "text/plain": [
              "(1, 28, 28, 1)"
            ]
          },
          "metadata": {
            "tags": []
          },
          "execution_count": 9
        }
      ]
    },
    {
      "cell_type": "markdown",
      "metadata": {
        "id": "lcIIv2MVgSVo",
        "colab_type": "text"
      },
      "source": [
        "---"
      ]
    },
    {
      "cell_type": "markdown",
      "metadata": {
        "id": "ghm0ilDXgTrB",
        "colab_type": "text"
      },
      "source": [
        "## Feature Extraction"
      ]
    },
    {
      "cell_type": "markdown",
      "metadata": {
        "id": "JOCXYhf-gawd",
        "colab_type": "text"
      },
      "source": [
        "### CNN (Convolution Neural Network)\n",
        "#### feature extraction (이미지의 특징을 찾고) -> classification (예측)"
      ]
    },
    {
      "cell_type": "markdown",
      "metadata": {
        "id": "sFzGyLnQgmFb",
        "colab_type": "text"
      },
      "source": [
        "- filters : layer에서 나갈 때 몇 개의 filter를 만들 것인지 (a.k.a weights, filters, channels)\n",
        "- kernel_size : filter(Weight)의 사이즈\n",
        "- strides : 몇 개의 pixel을 skip하면서 훑고 지나갈 것인지 (사이즈에 영향)\n",
        "- padding : zero padding을 만들 것인지, VAILD는 padding이 없고 , SAME은 padding이 있음 (사이즈에 영향)\n",
        "- activation : Activation Function을 만들 것인지 당장 설정 안해도 Layer 층을 따로 만들 수 있음"
      ]
    },
    {
      "cell_type": "markdown",
      "metadata": {
        "id": "8Efauj68hQ42",
        "colab_type": "text"
      },
      "source": [
        "### tf.keras.layers.Conv2D를 통해 쉽게 사용 가능"
      ]
    },
    {
      "cell_type": "code",
      "metadata": {
        "id": "hK8ocVHPft1k",
        "colab_type": "code",
        "colab": {
          "base_uri": "https://localhost:8080/",
          "height": 34
        },
        "outputId": "abee9dd0-d542-44e4-9bb1-1c57693b8e3d"
      },
      "source": [
        "tf.keras.layers.Conv2D(filters=3, kernel_size=(3, 3), strides=(1, 1), padding=\"SAME\", activation='relu')"
      ],
      "execution_count": 10,
      "outputs": [
        {
          "output_type": "execute_result",
          "data": {
            "text/plain": [
              "<tensorflow.python.keras.layers.convolutional.Conv2D at 0x7fc8378638d0>"
            ]
          },
          "metadata": {
            "tags": []
          },
          "execution_count": 10
        }
      ]
    },
    {
      "cell_type": "markdown",
      "metadata": {
        "id": "aIxKe3yDh9VR",
        "colab_type": "text"
      },
      "source": [
        "- filter의 개수에 따라 channel 수도 바뀜\n",
        "- kernel_size - 각 필터의 사이즈 (3, 3)을 3으로 대체가능"
      ]
    },
    {
      "cell_type": "code",
      "metadata": {
        "id": "4XdhQjQahiig",
        "colab_type": "code",
        "colab": {
          "base_uri": "https://localhost:8080/",
          "height": 34
        },
        "outputId": "a47980e7-5152-418a-e1b0-2a8a42a4224f"
      },
      "source": [
        "tf.keras.layers.Conv2D(filters=3, kernel_size=3, strides=(1, 1), padding=\"SAME\", activation='relu')"
      ],
      "execution_count": 13,
      "outputs": [
        {
          "output_type": "execute_result",
          "data": {
            "text/plain": [
              "<tensorflow.python.keras.layers.convolutional.Conv2D at 0x7fc834dc7860>"
            ]
          },
          "metadata": {
            "tags": []
          },
          "execution_count": 13
        }
      ]
    },
    {
      "cell_type": "markdown",
      "metadata": {
        "id": "lRJh3KedjFH3",
        "colab_type": "text"
      },
      "source": [
        "### Visualization"
      ]
    },
    {
      "cell_type": "markdown",
      "metadata": {
        "id": "0DXUmwNujPpW",
        "colab_type": "text"
      },
      "source": [
        "tf.keras.layers.Conv2D"
      ]
    },
    {
      "cell_type": "markdown",
      "metadata": {
        "id": "_qCh4OI8jiAC",
        "colab_type": "text"
      },
      "source": [
        "- 이미지로 넣기전에 float32가 아닌 int형식이나 다른 형식일 경우 오류가 남\n",
        "- tf.cast를 활용하여 float32로 변경해주어야함"
      ]
    },
    {
      "cell_type": "code",
      "metadata": {
        "id": "RzOSPFJ7ixtH",
        "colab_type": "code",
        "colab": {
          "base_uri": "https://localhost:8080/",
          "height": 34
        },
        "outputId": "a8d08226-dedb-4a23-a1cb-a9bc3b1b11d0"
      },
      "source": [
        "image = tf.cast(image, dtype=tf.float32)\n",
        "image.dtype"
      ],
      "execution_count": 15,
      "outputs": [
        {
          "output_type": "execute_result",
          "data": {
            "text/plain": [
              "tf.float32"
            ]
          },
          "metadata": {
            "tags": []
          },
          "execution_count": 15
        }
      ]
    },
    {
      "cell_type": "code",
      "metadata": {
        "id": "1EVWLZ5ojUby",
        "colab_type": "code",
        "colab": {
          "base_uri": "https://localhost:8080/",
          "height": 34
        },
        "outputId": "6eb7f641-ef81-4748-9ca0-f6cf364be196"
      },
      "source": [
        "layer = tf.keras.layers.Conv2D(3, 3, 1, padding='SAME')\n",
        "layer"
      ],
      "execution_count": 16,
      "outputs": [
        {
          "output_type": "execute_result",
          "data": {
            "text/plain": [
              "<tensorflow.python.keras.layers.convolutional.Conv2D at 0x7fc834dc7550>"
            ]
          },
          "metadata": {
            "tags": []
          },
          "execution_count": 16
        }
      ]
    },
    {
      "cell_type": "markdown",
      "metadata": {
        "id": "2nQIivWjj-EL",
        "colab_type": "text"
      },
      "source": [
        "output에서 확인할 수 있는 것은 Conv2D Layer에서 설정한 filter값이 ouput의 channel값으로 설정되어 있는 것을 볼 수 있음\n",
        "- (1, 28, 28, 1) 데이터 -> Conv2D(3 (이 값) , 3, 1, padding='SAME') -> (1, 28, 28, 3)\n",
        "\n",
        "그리고 padding을 SAME으로 했기 때문에 zero padding이 생기지 않아 가운데 차원은 바뀌지 않음"
      ]
    },
    {
      "cell_type": "code",
      "metadata": {
        "id": "RN3_0igRj1o1",
        "colab_type": "code",
        "colab": {
          "base_uri": "https://localhost:8080/",
          "height": 867
        },
        "outputId": "71105fe4-6079-4564-ad21-ea0e4853fb54"
      },
      "source": [
        "output = layer(image)\n",
        "output"
      ],
      "execution_count": 18,
      "outputs": [
        {
          "output_type": "execute_result",
          "data": {
            "text/plain": [
              "<tf.Tensor: shape=(1, 28, 28, 3), dtype=float32, numpy=\n",
              "array([[[[0., 0., 0.],\n",
              "         [0., 0., 0.],\n",
              "         [0., 0., 0.],\n",
              "         ...,\n",
              "         [0., 0., 0.],\n",
              "         [0., 0., 0.],\n",
              "         [0., 0., 0.]],\n",
              "\n",
              "        [[0., 0., 0.],\n",
              "         [0., 0., 0.],\n",
              "         [0., 0., 0.],\n",
              "         ...,\n",
              "         [0., 0., 0.],\n",
              "         [0., 0., 0.],\n",
              "         [0., 0., 0.]],\n",
              "\n",
              "        [[0., 0., 0.],\n",
              "         [0., 0., 0.],\n",
              "         [0., 0., 0.],\n",
              "         ...,\n",
              "         [0., 0., 0.],\n",
              "         [0., 0., 0.],\n",
              "         [0., 0., 0.]],\n",
              "\n",
              "        ...,\n",
              "\n",
              "        [[0., 0., 0.],\n",
              "         [0., 0., 0.],\n",
              "         [0., 0., 0.],\n",
              "         ...,\n",
              "         [0., 0., 0.],\n",
              "         [0., 0., 0.],\n",
              "         [0., 0., 0.]],\n",
              "\n",
              "        [[0., 0., 0.],\n",
              "         [0., 0., 0.],\n",
              "         [0., 0., 0.],\n",
              "         ...,\n",
              "         [0., 0., 0.],\n",
              "         [0., 0., 0.],\n",
              "         [0., 0., 0.]],\n",
              "\n",
              "        [[0., 0., 0.],\n",
              "         [0., 0., 0.],\n",
              "         [0., 0., 0.],\n",
              "         ...,\n",
              "         [0., 0., 0.],\n",
              "         [0., 0., 0.],\n",
              "         [0., 0., 0.]]]], dtype=float32)>"
            ]
          },
          "metadata": {
            "tags": []
          },
          "execution_count": 18
        }
      ]
    },
    {
      "cell_type": "markdown",
      "metadata": {
        "id": "jrDnceNZkjis",
        "colab_type": "text"
      },
      "source": [
        "만약 filter 값을 5, padding을 VALID로 준다면\n",
        "- (1, 28, 28, 1) -> Conv2D(5, 3, 1, padding=VALID) -> (1, 26, 26, 5)"
      ]
    },
    {
      "cell_type": "code",
      "metadata": {
        "id": "u6JqTUaaj7gg",
        "colab_type": "code",
        "colab": {
          "base_uri": "https://localhost:8080/",
          "height": 34
        },
        "outputId": "dcbb7657-2306-4cae-c178-7e9dde4786e5"
      },
      "source": [
        "layer2 = tf.keras.layers.Conv2D(5, 3, 1, padding='VALID')\n",
        "layer2"
      ],
      "execution_count": 19,
      "outputs": [
        {
          "output_type": "execute_result",
          "data": {
            "text/plain": [
              "<tensorflow.python.keras.layers.convolutional.Conv2D at 0x7fc834dc7b38>"
            ]
          },
          "metadata": {
            "tags": []
          },
          "execution_count": 19
        }
      ]
    },
    {
      "cell_type": "code",
      "metadata": {
        "id": "WZzDk9jqk1ds",
        "colab_type": "code",
        "colab": {
          "base_uri": "https://localhost:8080/",
          "height": 1000
        },
        "outputId": "4136acf1-edd3-4353-cc0b-d3b439e56bbc"
      },
      "source": [
        "output2 = layer2(image)\n",
        "output2"
      ],
      "execution_count": 20,
      "outputs": [
        {
          "output_type": "execute_result",
          "data": {
            "text/plain": [
              "<tf.Tensor: shape=(1, 26, 26, 5), dtype=float32, numpy=\n",
              "array([[[[  0.        ,   0.        ,   0.        ,   0.        ,\n",
              "            0.        ],\n",
              "         [  0.        ,   0.        ,   0.        ,   0.        ,\n",
              "            0.        ],\n",
              "         [  0.        ,   0.        ,   0.        ,   0.        ,\n",
              "            0.        ],\n",
              "         ...,\n",
              "         [  0.        ,   0.        ,   0.        ,   0.        ,\n",
              "            0.        ],\n",
              "         [  0.        ,   0.        ,   0.        ,   0.        ,\n",
              "            0.        ],\n",
              "         [  0.        ,   0.        ,   0.        ,   0.        ,\n",
              "            0.        ]],\n",
              "\n",
              "        [[  0.        ,   0.        ,   0.        ,   0.        ,\n",
              "            0.        ],\n",
              "         [  0.        ,   0.        ,   0.        ,   0.        ,\n",
              "            0.        ],\n",
              "         [  0.        ,   0.        ,   0.        ,   0.        ,\n",
              "            0.        ],\n",
              "         ...,\n",
              "         [  0.        ,   0.        ,   0.        ,   0.        ,\n",
              "            0.        ],\n",
              "         [  0.        ,   0.        ,   0.        ,   0.        ,\n",
              "            0.        ],\n",
              "         [  0.        ,   0.        ,   0.        ,   0.        ,\n",
              "            0.        ]],\n",
              "\n",
              "        [[  0.        ,   0.        ,   0.        ,   0.        ,\n",
              "            0.        ],\n",
              "         [  0.        ,   0.        ,   0.        ,   0.        ,\n",
              "            0.        ],\n",
              "         [  0.        ,   0.        ,   0.        ,   0.        ,\n",
              "            0.        ],\n",
              "         ...,\n",
              "         [  0.        ,   0.        ,   0.        ,   0.        ,\n",
              "            0.        ],\n",
              "         [  0.        ,   0.        ,   0.        ,   0.        ,\n",
              "            0.        ],\n",
              "         [  0.        ,   0.        ,   0.        ,   0.        ,\n",
              "            0.        ]],\n",
              "\n",
              "        ...,\n",
              "\n",
              "        [[  0.        ,   0.        ,   0.        ,   0.        ,\n",
              "            0.        ],\n",
              "         [  0.        ,   0.        ,   0.        ,   0.        ,\n",
              "            0.        ],\n",
              "         [ 44.763268  , -12.837847  ,  -0.14491272, -30.725668  ,\n",
              "            9.989346  ],\n",
              "         ...,\n",
              "         [  0.        ,   0.        ,   0.        ,   0.        ,\n",
              "            0.        ],\n",
              "         [  0.        ,   0.        ,   0.        ,   0.        ,\n",
              "            0.        ],\n",
              "         [  0.        ,   0.        ,   0.        ,   0.        ,\n",
              "            0.        ]],\n",
              "\n",
              "        [[  0.        ,   0.        ,   0.        ,   0.        ,\n",
              "            0.        ],\n",
              "         [  0.        ,   0.        ,   0.        ,   0.        ,\n",
              "            0.        ],\n",
              "         [ 26.67497   ,  -7.3848944 ,  31.35712   ,  12.138174  ,\n",
              "           27.056927  ],\n",
              "         ...,\n",
              "         [  0.        ,   0.        ,   0.        ,   0.        ,\n",
              "            0.        ],\n",
              "         [  0.        ,   0.        ,   0.        ,   0.        ,\n",
              "            0.        ],\n",
              "         [  0.        ,   0.        ,   0.        ,   0.        ,\n",
              "            0.        ]],\n",
              "\n",
              "        [[  0.        ,   0.        ,   0.        ,   0.        ,\n",
              "            0.        ],\n",
              "         [  0.        ,   0.        ,   0.        ,   0.        ,\n",
              "            0.        ],\n",
              "         [  0.        ,   0.        ,   0.        ,   0.        ,\n",
              "            0.        ],\n",
              "         ...,\n",
              "         [  0.        ,   0.        ,   0.        ,   0.        ,\n",
              "            0.        ],\n",
              "         [  0.        ,   0.        ,   0.        ,   0.        ,\n",
              "            0.        ],\n",
              "         [  0.        ,   0.        ,   0.        ,   0.        ,\n",
              "            0.        ]]]], dtype=float32)>"
            ]
          },
          "metadata": {
            "tags": []
          },
          "execution_count": 20
        }
      ]
    },
    {
      "cell_type": "markdown",
      "metadata": {
        "id": "7qjT8PBGlPJr",
        "colab_type": "text"
      },
      "source": [
        "#### 기존 이미지와 CNN을 거친 이미지 비교"
      ]
    },
    {
      "cell_type": "code",
      "metadata": {
        "id": "7qbk5HI5k3Sh",
        "colab_type": "code",
        "colab": {
          "base_uri": "https://localhost:8080/",
          "height": 258
        },
        "outputId": "4cc07134-e582-4d5e-811e-7328f20a56a2"
      },
      "source": [
        "plt.figure(figsize=(15, 15))\n",
        "plt.subplot(1, 3, 1)\n",
        "plt.title(\"Original\")\n",
        "plt.imshow(image[0, :, :, 0], 'gray')\n",
        "plt.subplot(1, 3, 2)\n",
        "plt.title(\"Conv2D(3, 3, 1, padding='SAME')\")\n",
        "plt.imshow(output[0, :, :, 0], 'gray')\n",
        "plt.subplot(1, 3, 3)\n",
        "plt.title(\"Conv2D(5, 3, 1, padding='VALID')\")\n",
        "plt.imshow(output2[0, :, :, 0], 'gray')\n",
        "plt.show()"
      ],
      "execution_count": 27,
      "outputs": [
        {
          "output_type": "display_data",
          "data": {
            "image/png": "[encoded data removed]",
            "text/plain": [
              "<Figure size 1080x1080 with 3 Axes>"
            ]
          },
          "metadata": {
            "tags": [],
            "needs_background": "light"
          }
        }
      ]
    },
    {
      "cell_type": "code",
      "metadata": {
        "id": "0kd32IZ6k9Xb",
        "colab_type": "code",
        "colab": {}
      },
      "source": [
        "import numpy as np"
      ],
      "execution_count": 28,
      "outputs": []
    },
    {
      "cell_type": "markdown",
      "metadata": {
        "id": "AD3AhSvwmkv5",
        "colab_type": "text"
      },
      "source": [
        "#### 기존 0 ~ 255 -> -230 ~ 154 로 바뀐 것 확인 가능"
      ]
    },
    {
      "cell_type": "code",
      "metadata": {
        "id": "5SubpyaEmYsi",
        "colab_type": "code",
        "colab": {
          "base_uri": "https://localhost:8080/",
          "height": 34
        },
        "outputId": "78d876f0-beb2-4bfb-8ebd-0479ca28c075"
      },
      "source": [
        "np.min(image), np.max(image)"
      ],
      "execution_count": 29,
      "outputs": [
        {
          "output_type": "execute_result",
          "data": {
            "text/plain": [
              "(0.0, 255.0)"
            ]
          },
          "metadata": {
            "tags": []
          },
          "execution_count": 29
        }
      ]
    },
    {
      "cell_type": "code",
      "metadata": {
        "id": "OUr7Tcz_mcZV",
        "colab_type": "code",
        "colab": {
          "base_uri": "https://localhost:8080/",
          "height": 34
        },
        "outputId": "f601a8c1-47e7-4b79-d877-ef3f298be889"
      },
      "source": [
        "np.min(output), np.max(output)"
      ],
      "execution_count": 30,
      "outputs": [
        {
          "output_type": "execute_result",
          "data": {
            "text/plain": [
              "(-230.65381, 154.00809)"
            ]
          },
          "metadata": {
            "tags": []
          },
          "execution_count": 30
        }
      ]
    },
    {
      "cell_type": "code",
      "metadata": {
        "id": "Fu2VBnAFmfVj",
        "colab_type": "code",
        "colab": {
          "base_uri": "https://localhost:8080/",
          "height": 34
        },
        "outputId": "faa845b8-5e36-4538-e9e6-46b74e11856d"
      },
      "source": [
        "np.min(output2), np.max(output2)"
      ],
      "execution_count": 31,
      "outputs": [
        {
          "output_type": "execute_result",
          "data": {
            "text/plain": [
              "(-216.202, 261.01672)"
            ]
          },
          "metadata": {
            "tags": []
          },
          "execution_count": 31
        }
      ]
    },
    {
      "cell_type": "markdown",
      "metadata": {
        "id": "HIJphAxBm0_x",
        "colab_type": "text"
      },
      "source": [
        "### weight 불러오기\n",
        "- layer.get_weights() : list형태로 return해줌\n",
        "- len(weight) == 2\n",
        "- y = Wx + b\n",
        "- weight[0] : weight ( W )\n",
        "- weight[1] : bias ( b )"
      ]
    },
    {
      "cell_type": "code",
      "metadata": {
        "id": "vdmAaUNUmhXo",
        "colab_type": "code",
        "colab": {
          "base_uri": "https://localhost:8080/",
          "height": 357
        },
        "outputId": "ff9ac6f2-f92f-4eff-fb42-3227b332fb84"
      },
      "source": [
        "weight = layer.get_weights()\n",
        "weight"
      ],
      "execution_count": 32,
      "outputs": [
        {
          "output_type": "execute_result",
          "data": {
            "text/plain": [
              "[array([[[[-0.36709297, -0.23786119, -0.04663584]],\n",
              " \n",
              "         [[ 0.05236092,  0.28045094,  0.09123346]],\n",
              " \n",
              "         [[ 0.3596545 , -0.34153345,  0.2714132 ]]],\n",
              " \n",
              " \n",
              "        [[[-0.11416614, -0.27504188, -0.2008185 ]],\n",
              " \n",
              "         [[-0.07592791,  0.34501976, -0.03259853]],\n",
              " \n",
              "         [[ 0.28227216, -0.25305045,  0.04381451]]],\n",
              " \n",
              " \n",
              "        [[[-0.07209373, -0.29703325, -0.36930284]],\n",
              " \n",
              "         [[-0.24530937,  0.39643645,  0.22499925]],\n",
              " \n",
              "         [[-0.2918314 ,  0.2627592 , -0.2211649 ]]]], dtype=float32),\n",
              " array([0., 0., 0.], dtype=float32)]"
            ]
          },
          "metadata": {
            "tags": []
          },
          "execution_count": 32
        }
      ]
    },
    {
      "cell_type": "code",
      "metadata": {
        "id": "FLc0bP79m8tr",
        "colab_type": "code",
        "colab": {
          "base_uri": "https://localhost:8080/",
          "height": 34
        },
        "outputId": "4d699a1e-6ab0-4373-bfaa-3dd95703f63f"
      },
      "source": [
        "weight[0].shape, weight[1].shape"
      ],
      "execution_count": 33,
      "outputs": [
        {
          "output_type": "execute_result",
          "data": {
            "text/plain": [
              "((3, 3, 1, 3), (3,))"
            ]
          },
          "metadata": {
            "tags": []
          },
          "execution_count": 33
        }
      ]
    },
    {
      "cell_type": "markdown",
      "metadata": {
        "id": "rEs4rR6Aol2s",
        "colab_type": "text"
      },
      "source": [
        "output에서 나온 값들을 histogram으로 확인 (x축 -2 ~ 2, y축 0 ~ 100)\n",
        "\n",
        "filter의 생김새\n",
        "\n",
        "filter를 거친 이미지의 모습"
      ]
    },
    {
      "cell_type": "code",
      "metadata": {
        "id": "yNbGys3ynV4H",
        "colab_type": "code",
        "colab": {
          "base_uri": "https://localhost:8080/",
          "height": 282
        },
        "outputId": "258524a6-eb81-429a-9377-253f1607ba4a"
      },
      "source": [
        "plt.figure(figsize=(15, 5))\n",
        "plt.subplot(1, 3, 1)\n",
        "plt.hist(output.numpy().ravel(), range=[-2, 2])\n",
        "plt.ylim(0, 100)\n",
        "plt.subplot(1, 3, 2)\n",
        "plt.imshow(weight[0][:, :, 0, 0], 'gray')\n",
        "plt.title(\"filter shape : \" + str(weight[0].shape))\n",
        "plt.subplot(1, 3, 3)\n",
        "plt.title(output.shape)\n",
        "plt.imshow(output[0, :, :, 0], 'gray')\n",
        "plt.colorbar()"
      ],
      "execution_count": 46,
      "outputs": [
        {
          "output_type": "execute_result",
          "data": {
            "text/plain": [
              "<matplotlib.colorbar.Colorbar at 0x7fc837ceb400>"
            ]
          },
          "metadata": {
            "tags": []
          },
          "execution_count": 46
        },
        {
          "output_type": "display_data",
          "data": {
            "image/png": "[encoded data removed]",
            "text/plain": [
              "<Figure size 1080x360 with 4 Axes>"
            ]
          },
          "metadata": {
            "tags": [],
            "needs_background": "light"
          }
        }
      ]
    },
    {
      "cell_type": "markdown",
      "metadata": {
        "id": "-3SqYZNopYBd",
        "colab_type": "text"
      },
      "source": [
        "---"
      ]
    },
    {
      "cell_type": "markdown",
      "metadata": {
        "id": "fNH__wkypVYt",
        "colab_type": "text"
      },
      "source": [
        "## Activation Function"
      ]
    },
    {
      "cell_type": "code",
      "metadata": {
        "id": "T-LOmYn-ntaY",
        "colab_type": "code",
        "colab": {
          "base_uri": "https://localhost:8080/",
          "height": 34
        },
        "outputId": "a3633c7c-7294-420b-83f4-224dace3c412"
      },
      "source": [
        "np.min(output), np.max(output)"
      ],
      "execution_count": 47,
      "outputs": [
        {
          "output_type": "execute_result",
          "data": {
            "text/plain": [
              "(-230.65381, 154.00809)"
            ]
          },
          "metadata": {
            "tags": []
          },
          "execution_count": 47
        }
      ]
    },
    {
      "cell_type": "markdown",
      "metadata": {
        "id": "W9lAd5-0qpDg",
        "colab_type": "text"
      },
      "source": [
        "#### ReLU : shape은 그대로 유지하고 0 이하의 값들은 사용하지 않음\n",
        "- tf.keras.layers.ReLU()"
      ]
    },
    {
      "cell_type": "code",
      "metadata": {
        "id": "j3oLgbaKqoT1",
        "colab_type": "code",
        "colab": {
          "base_uri": "https://localhost:8080/",
          "height": 34
        },
        "outputId": "eb113964-1269-4763-beaf-23250d53ff0d"
      },
      "source": [
        "tf.keras.layers.ReLU()"
      ],
      "execution_count": 48,
      "outputs": [
        {
          "output_type": "execute_result",
          "data": {
            "text/plain": [
              "<tensorflow.python.keras.layers.advanced_activations.ReLU at 0x7fc7d0e98940>"
            ]
          },
          "metadata": {
            "tags": []
          },
          "execution_count": 48
        }
      ]
    },
    {
      "cell_type": "code",
      "metadata": {
        "id": "nu-qTYBwq0Ws",
        "colab_type": "code",
        "colab": {}
      },
      "source": [
        "act_layer = tf.keras.layers.ReLU()\n",
        "act_output = act_layer(output)"
      ],
      "execution_count": 49,
      "outputs": []
    },
    {
      "cell_type": "code",
      "metadata": {
        "id": "f3YeTIVVq_5h",
        "colab_type": "code",
        "colab": {
          "base_uri": "https://localhost:8080/",
          "height": 34
        },
        "outputId": "29794714-51f1-495f-bbcc-253760c782e5"
      },
      "source": [
        "act_output.shape, output.shape"
      ],
      "execution_count": 50,
      "outputs": [
        {
          "output_type": "execute_result",
          "data": {
            "text/plain": [
              "(TensorShape([1, 28, 28, 3]), TensorShape([1, 28, 28, 3]))"
            ]
          },
          "metadata": {
            "tags": []
          },
          "execution_count": 50
        }
      ]
    },
    {
      "cell_type": "code",
      "metadata": {
        "id": "F_2a99WlrCqS",
        "colab_type": "code",
        "colab": {
          "base_uri": "https://localhost:8080/",
          "height": 34
        },
        "outputId": "9dc8c72f-dd54-4d9d-ec19-5c27513745f5"
      },
      "source": [
        "np.min(act_output), np.max(act_output)"
      ],
      "execution_count": 51,
      "outputs": [
        {
          "output_type": "execute_result",
          "data": {
            "text/plain": [
              "(0.0, 154.00809)"
            ]
          },
          "metadata": {
            "tags": []
          },
          "execution_count": 51
        }
      ]
    },
    {
      "cell_type": "markdown",
      "metadata": {
        "id": "65SqwVx9rouu",
        "colab_type": "text"
      },
      "source": [
        "ReLU Layer를 통과함으로서 0이하의 값들이 사라진 것을 볼 수 있음"
      ]
    },
    {
      "cell_type": "code",
      "metadata": {
        "id": "UHrx6kDbrKec",
        "colab_type": "code",
        "colab": {
          "base_uri": "https://localhost:8080/",
          "height": 285
        },
        "outputId": "99b2ccf7-1593-4949-a29c-a569dbb71256"
      },
      "source": [
        "plt.figure(figsize=(15, 5))\n",
        "plt.subplot(1, 2, 1)\n",
        "plt.hist(output.numpy().ravel(), range=[-2, 2])\n",
        "plt.ylim(0, 100)\n",
        "plt.subplot(1, 2, 2)\n",
        "plt.hist(act_output.numpy().ravel(), range=[-2, 2])\n",
        "plt.ylim(0, 100)"
      ],
      "execution_count": 56,
      "outputs": [
        {
          "output_type": "execute_result",
          "data": {
            "text/plain": [
              "(0.0, 100.0)"
            ]
          },
          "metadata": {
            "tags": []
          },
          "execution_count": 56
        },
        {
          "output_type": "display_data",
          "data": {
            "image/png": "[encoded data removed]",
            "text/plain": [
              "<Figure size 1080x360 with 2 Axes>"
            ]
          },
          "metadata": {
            "tags": [],
            "needs_background": "light"
          }
        }
      ]
    },
    {
      "cell_type": "markdown",
      "metadata": {
        "id": "08XiYbLRsFAN",
        "colab_type": "text"
      },
      "source": [
        "0 이상의 숫자들만 남기고 다 삭제함"
      ]
    },
    {
      "cell_type": "code",
      "metadata": {
        "id": "WGSXpBJ-rZ95",
        "colab_type": "code",
        "colab": {
          "base_uri": "https://localhost:8080/",
          "height": 313
        },
        "outputId": "8ba07ae0-9ecd-4c4d-95e8-618e12449663"
      },
      "source": [
        "plt.figure(figsize=(15, 5))\n",
        "plt.subplot(1, 2, 1)\n",
        "plt.title(output.shape)\n",
        "plt.imshow(output[0, :, :, 0], 'gray')\n",
        "plt.colorbar()\n",
        "plt.subplot(1, 2, 2)\n",
        "plt.title(act_output.shape)\n",
        "plt.imshow(act_output[0, :, :, 0], 'gray')\n",
        "plt.colorbar()"
      ],
      "execution_count": 59,
      "outputs": [
        {
          "output_type": "execute_result",
          "data": {
            "text/plain": [
              "<matplotlib.colorbar.Colorbar at 0x7fc7d081bbe0>"
            ]
          },
          "metadata": {
            "tags": []
          },
          "execution_count": 59
        },
        {
          "output_type": "display_data",
          "data": {
            "image/png": "[encoded data removed]",
            "text/plain": [
              "<Figure size 1080x360 with 4 Axes>"
            ]
          },
          "metadata": {
            "tags": [],
            "needs_background": "light"
          }
        }
      ]
    },
    {
      "cell_type": "markdown",
      "metadata": {
        "id": "Li3mWSANsNP3",
        "colab_type": "text"
      },
      "source": [
        "---"
      ]
    },
    {
      "cell_type": "markdown",
      "metadata": {
        "id": "BYL-QBBdsOX3",
        "colab_type": "text"
      },
      "source": [
        "### Pooling : 압축"
      ]
    },
    {
      "cell_type": "markdown",
      "metadata": {
        "id": "9Q4ffHKFsaYu",
        "colab_type": "text"
      },
      "source": [
        "- MaxPooling : tf.keras.layers.MaxPool2D : 확인하는 값들 중 가장 큰 값만 살림\n",
        "- strides : 확인할 가로 세로 크기"
      ]
    },
    {
      "cell_type": "code",
      "metadata": {
        "id": "O8-MjyY6r42z",
        "colab_type": "code",
        "colab": {
          "base_uri": "https://localhost:8080/",
          "height": 34
        },
        "outputId": "c83b0f6c-aead-4086-df65-3ebd54320927"
      },
      "source": [
        "tf.keras.layers.MaxPool2D(pool_size=(2, 2), strides=(2, 2), padding='SAME')"
      ],
      "execution_count": 60,
      "outputs": [
        {
          "output_type": "execute_result",
          "data": {
            "text/plain": [
              "<tensorflow.python.keras.layers.pooling.MaxPooling2D at 0x7fc7d1349908>"
            ]
          },
          "metadata": {
            "tags": []
          },
          "execution_count": 60
        }
      ]
    },
    {
      "cell_type": "code",
      "metadata": {
        "id": "w7UbrIoKsmIZ",
        "colab_type": "code",
        "colab": {}
      },
      "source": [
        "pool_layer = tf.keras.layers.MaxPool2D(pool_size=(2, 2), strides=(2, 2), padding='SAME')\n",
        "pool_output = pool_layer(act_output)"
      ],
      "execution_count": 61,
      "outputs": []
    },
    {
      "cell_type": "markdown",
      "metadata": {
        "id": "YQyUvBlrs-50",
        "colab_type": "text"
      },
      "source": [
        "기존에 28, 28 였던 사이즈가 14, 14 로 줄어든 것을 볼 수 있음"
      ]
    },
    {
      "cell_type": "code",
      "metadata": {
        "id": "BKbST-jRs7II",
        "colab_type": "code",
        "colab": {
          "base_uri": "https://localhost:8080/",
          "height": 34
        },
        "outputId": "e88d406f-8081-4f5a-dfc0-5611663da487"
      },
      "source": [
        "act_output.shape, pool_output.shape"
      ],
      "execution_count": 62,
      "outputs": [
        {
          "output_type": "execute_result",
          "data": {
            "text/plain": [
              "(TensorShape([1, 28, 28, 3]), TensorShape([1, 14, 14, 3]))"
            ]
          },
          "metadata": {
            "tags": []
          },
          "execution_count": 62
        }
      ]
    },
    {
      "cell_type": "code",
      "metadata": {
        "id": "9-TJw0wrs-RA",
        "colab_type": "code",
        "colab": {
          "base_uri": "https://localhost:8080/",
          "height": 295
        },
        "outputId": "f6f6779b-6da3-41f3-86bc-53cdb45b66cb"
      },
      "source": [
        "plt.figure(figsize=(15, 5))\n",
        "plt.subplot(1, 3, 1)\n",
        "plt.title(\"Original : \" + str(output.shape))\n",
        "plt.hist(output.numpy().ravel(), range=[-2, 2])\n",
        "plt.ylim(0, 100)\n",
        "plt.subplot(1, 3, 2)\n",
        "plt.title(\"Conv2D : \" + str(act_output.shape))\n",
        "plt.hist(act_output.numpy().ravel(), range=[-2, 2])\n",
        "plt.ylim(0, 100)\n",
        "plt.subplot(1, 3, 3)\n",
        "plt.title(\"MaxPool :\" + str(pool_output.shape))\n",
        "plt.hist(pool_output.numpy().ravel(), range=[-2, 2])\n",
        "plt.ylim(0, 100)"
      ],
      "execution_count": 66,
      "outputs": [
        {
          "output_type": "execute_result",
          "data": {
            "text/plain": [
              "(0.0, 100.0)"
            ]
          },
          "metadata": {
            "tags": []
          },
          "execution_count": 66
        },
        {
          "output_type": "display_data",
          "data": {
            "image/png": "[encoded data removed]",
            "text/plain": [
              "<Figure size 1080x360 with 3 Axes>"
            ]
          },
          "metadata": {
            "tags": [],
            "needs_background": "light"
          }
        }
      ]
    },
    {
      "cell_type": "code",
      "metadata": {
        "id": "xRMjbgKAtsBj",
        "colab_type": "code",
        "colab": {
          "base_uri": "https://localhost:8080/",
          "height": 276
        },
        "outputId": "22d7d956-f2c3-44d0-d241-5c682daab6af"
      },
      "source": [
        "plt.figure(figsize=(15, 5))\n",
        "plt.subplot(1, 3, 1)\n",
        "plt.title(\"Original : \" + str(output.shape))\n",
        "plt.imshow(output[0, :, :, 0], 'gray')\n",
        "plt.colorbar()\n",
        "plt.subplot(1, 3, 2)\n",
        "plt.title(\"Conv2D : \" + str(act_output.shape))\n",
        "plt.imshow(act_output[0, :, :, 0], 'gray')\n",
        "plt.colorbar()\n",
        "plt.subplot(1, 3, 3)\n",
        "plt.title(\"MaxPool :\" + str(pool_output.shape))\n",
        "plt.imshow(pool_output[0, :, :, 0], 'gray')\n",
        "plt.colorbar()"
      ],
      "execution_count": 67,
      "outputs": [
        {
          "output_type": "execute_result",
          "data": {
            "text/plain": [
              "<matplotlib.colorbar.Colorbar at 0x7fc7d0f70400>"
            ]
          },
          "metadata": {
            "tags": []
          },
          "execution_count": 67
        },
        {
          "output_type": "display_data",
          "data": {
            "image/png": "[encoded data removed]",
            "text/plain": [
              "<Figure size 1080x360 with 6 Axes>"
            ]
          },
          "metadata": {
            "tags": [],
            "needs_background": "light"
          }
        }
      ]
    }
  ]
}